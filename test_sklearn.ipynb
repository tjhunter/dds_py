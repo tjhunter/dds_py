{
 "cells": [
  {
   "cell_type": "code",
   "execution_count": 1,
   "metadata": {},
   "outputs": [],
   "source": [
    "# Adaptation of https://elitedatascience.com/python-machine-learning-tutorial-scikit-learn\n",
    "import dds\n",
    "import sklearn\n",
    "import pandas as pd\n",
    "import logging\n",
    "logging.basicConfig(level=logging.DEBUG)\n",
    "\n",
    "import numpy as np\n",
    "import pandas as pd\n",
    " \n",
    "from sklearn.model_selection import train_test_split\n",
    "from sklearn import preprocessing\n",
    "from sklearn.ensemble import RandomForestRegressor\n",
    "from sklearn.pipeline import make_pipeline\n",
    "from sklearn.model_selection import GridSearchCV\n",
    "from sklearn.metrics import mean_squared_error, r2_score\n",
    "import requests\n",
    "import io\n",
    "import json\n",
    "import dds\n"
   ]
  },
  {
   "cell_type": "code",
   "execution_count": 3,
   "metadata": {},
   "outputs": [
    {
     "name": "stderr",
     "output_type": "stream",
     "text": [
      "DEBUG:dds._api:_eval_new_ctx: local_vars: ['GridSearchCV', 'In', 'Out', 'RandomForestRegressor', '_', '_2', '__', '___', '__builtin__', '__builtins__', '__doc__', '__loader__', '__name__', '__package__', '__spec__', '_dh', '_i', '_i1', '_i2', '_i3', '_ih', '_ii', '_iii', '_oh', 'dds', 'exit', 'get_ipython', 'io', 'json', 'logging', 'make_pipeline', 'mean_squared_error', 'np', 'pd', 'preprocessing', 'quit', 'r2_score', 'requests', 'sklearn', 'train_test_split']\n",
      "DEBUG:dds.fun_args:get_arg_ctx: <function <lambda> at 0x7fd70c2d8310>: arg_sig=() args=()\n",
      "DEBUG:dds._api:arg_ctx: FunctionArgContext(named_args=OrderedDict(), inner_call_key=None)\n",
      "DEBUG:dds.introspect:_introspect: <function <lambda> at 0x7fd70c2d8310>: fun_path=<__main__.<lambda>> fun_module=<module '__main__'>\n",
      "DEBUG:dds.introspect:_introspect: is_lambda: <function <lambda> at 0x7fd70c2d8310>\n",
      "DEBUG:dds.introspect:_introspect: is_lambda: fun_path=<__main__.<lambda>5cb80a73e4bdc09d74a31964f89ab33db239a0d6c5bb934900954e150c8a219f> src=dds.eval(lambda: (\n",
      "1\n",
      "+\n",
      "1))\n",
      "\n",
      "DEBUG:dds._lambda_funs:_parse_lambda: ['dds.eval(lambda: (\\n', '1\\n', '+\\n', '1))\\n']\n",
      "DEBUG:dds._lambda_funs:_parse_lambda: call_node: Call(\n",
      "    lineno=1,\n",
      "    col_offset=0,\n",
      "    end_lineno=4,\n",
      "    end_col_offset=3,\n",
      "    func=Attribute(\n",
      "        lineno=1,\n",
      "        col_offset=0,\n",
      "        end_lineno=1,\n",
      "        end_col_offset=8,\n",
      "        value=Name(lineno=1, col_offset=0, end_lineno=1, end_col_offset=3, id='dds', ctx=Load()),\n",
      "        attr='eval',\n",
      "        ctx=Load(),\n",
      "    ),\n",
      "    args=[\n",
      "        Lambda(\n",
      "            lineno=1,\n",
      "            col_offset=9,\n",
      "            end_lineno=4,\n",
      "            end_col_offset=2,\n",
      "            args=arguments(posonlyargs=[], args=[], vararg=None, kwonlyargs=[], kw_defaults=[], kwarg=None, defaults=[]),\n",
      "            body=BinOp(\n",
      "                lineno=2,\n",
      "                col_offset=0,\n",
      "                end_lineno=4,\n",
      "                end_col_offset=1,\n",
      "                left=Constant(lineno=2, col_offset=0, end_lineno=2, end_col_offset=1, value=1, kind=None),\n",
      "                op=Add(),\n",
      "                right=Constant(lineno=4, col_offset=0, end_lineno=4, end_col_offset=1, value=1, kind=None),\n",
      "            ),\n",
      "        ),\n",
      "    ],\n",
      "    keywords=[],\n",
      ")\n",
      "DEBUG:dds.introspect:_introspect: is_lambda: <_ast.Lambda object at 0x7fd70c330910>\n",
      "DEBUG:dds.introspect:local vars: []\n",
      "DEBUG:dds.introspect:inspect_fun: <__main__.<lambda>5cb80a73e4bdc09d74a31964f89ab33db239a0d6c5bb934900954e150c8a219f> local_vars: set()\n",
      "DEBUG:dds.introspect:inspect_fun: ext_deps: []\n",
      "DEBUG:dds.introspect:inspect_fun: path from annotation: None\n",
      "DEBUG:dds._api:_eval_new_ctx: introspect completed\n",
      "DEBUG:dds._api:_eval_new_ctx: assigning 0 store path(s) to context\n",
      "INFO:dds._api:Interaction tree:\n",
      "INFO:dds._api:`- Fun <__main__.<lambda>5cb80a73e4bdc09d74a31964f89ab33db239a0d6c5bb934900954e150c8a219f> @ 1d3cb3b709\n",
      "INFO:dds._api:   `- Ctx None\n",
      "DEBUG:dds._api:_eval_new_ctx:current_sig: 1d3cb3b7097b61cb05b1303737d9a4d9191f2c8787b1c6f227728b278587fb99\n",
      "INFO:dds._api:_eval_new_ctx:Evaluating (eval) fun <function <lambda> at 0x7fd70c2d8310> with args [] kwargs OrderedDict()\n",
      "INFO:dds._api:_eval_new_ctx:Evaluating (eval) fun <function <lambda> at 0x7fd70c2d8310>: completed\n"
     ]
    },
    {
     "data": {
      "text/plain": [
       "2"
      ]
     },
     "execution_count": 3,
     "metadata": {},
     "output_type": "execute_result"
    }
   ],
   "source": [
    "dds.eval(lambda: (\n",
    "1\n",
    "+\n",
    "1))"
   ]
  },
  {
   "cell_type": "code",
   "execution_count": null,
   "metadata": {},
   "outputs": [],
   "source": [
    "raise"
   ]
  },
  {
   "cell_type": "code",
   "execution_count": 2,
   "metadata": {},
   "outputs": [],
   "source": [
    "%%sh\n",
    "rm -rf /tmp/data/*\n",
    "rm -rf /tmp/blobs/*\n",
    "rm -rf /tmp/*.png"
   ]
  },
  {
   "cell_type": "code",
   "execution_count": 3,
   "metadata": {},
   "outputs": [],
   "source": [
    "path_raw = \"/wine-quality/raw\"\n",
    "path_model = \"/wine-quality/my_model\"\n",
    "path_model_stats = \"/wine-quality/my_model_stats.json\"\n",
    "\n",
    "def _load_data():\n",
    "    print(\"*** in _load_data ***\")\n",
    "    url = \"https://raw.githubusercontent.com/zygmuntz/wine-quality/master/winequality/winequality-red.csv\"\n",
    "    x = requests.get(url=url, verify=False).content \n",
    "    return pd.read_csv(io.StringIO(x.decode('utf8')), sep=\";\")\n",
    "\n",
    "\n",
    "def data():\n",
    "    return dds.keep(path_raw, _load_data)\n",
    "# data = lambda: dds.keep(path_raw, _load_data)"
   ]
  },
  {
   "cell_type": "code",
   "execution_count": 4,
   "metadata": {},
   "outputs": [
    {
     "name": "stderr",
     "output_type": "stream",
     "text": [
      "INFO:dds._api:Interaction tree:\n",
      "INFO:dds._api:`- Fun <__main__._load_data> /wine-quality/raw -- ccd1ea3124\n",
      "INFO:dds._api:   `- Ctx None\n",
      "INFO:dds._api:_eval_new_ctx:Evaluating (eval) fun <function _load_data at 0x7fd6061d91f0> with args [] kwargs OrderedDict()\n",
      "/home/tjhunter/work/software/miniconda/envs/dds/lib/python3.8/site-packages/urllib3/connectionpool.py:981: InsecureRequestWarning: Unverified HTTPS request is being made to host 'raw.githubusercontent.com'. Adding certificate verification is strongly advised. See: https://urllib3.readthedocs.io/en/latest/advanced-usage.html#ssl-warnings\n",
      "  warnings.warn(\n",
      "INFO:dds._api:_eval_new_ctx:Evaluating (eval) fun <function _load_data at 0x7fd6061d91f0>: completed\n",
      "INFO:dds._api:_eval:Storing blob into key ccd1ea31245b11507b79fdf02946f9438d7de3b6933ac87348ed8cb94a7bc0d5\n",
      "INFO:dds.codec:Loading pandas codecs\n",
      "INFO:dds.store:Link /tmp/data/wine-quality/raw -> /tmp/blobs/ccd1ea31245b11507b79fdf02946f9438d7de3b6933ac87348ed8cb94a7bc0d5\n"
     ]
    },
    {
     "name": "stdout",
     "output_type": "stream",
     "text": [
      "*** in _load_data ***\n"
     ]
    },
    {
     "data": {
      "text/html": [
       "<div>\n",
       "<style scoped>\n",
       "    .dataframe tbody tr th:only-of-type {\n",
       "        vertical-align: middle;\n",
       "    }\n",
       "\n",
       "    .dataframe tbody tr th {\n",
       "        vertical-align: top;\n",
       "    }\n",
       "\n",
       "    .dataframe thead th {\n",
       "        text-align: right;\n",
       "    }\n",
       "</style>\n",
       "<table border=\"1\" class=\"dataframe\">\n",
       "  <thead>\n",
       "    <tr style=\"text-align: right;\">\n",
       "      <th></th>\n",
       "      <th>fixed acidity</th>\n",
       "      <th>volatile acidity</th>\n",
       "      <th>citric acid</th>\n",
       "      <th>residual sugar</th>\n",
       "      <th>chlorides</th>\n",
       "      <th>free sulfur dioxide</th>\n",
       "      <th>total sulfur dioxide</th>\n",
       "      <th>density</th>\n",
       "      <th>pH</th>\n",
       "      <th>sulphates</th>\n",
       "      <th>alcohol</th>\n",
       "      <th>quality</th>\n",
       "    </tr>\n",
       "  </thead>\n",
       "  <tbody>\n",
       "    <tr>\n",
       "      <th>0</th>\n",
       "      <td>7.4</td>\n",
       "      <td>0.70</td>\n",
       "      <td>0.00</td>\n",
       "      <td>1.9</td>\n",
       "      <td>0.076</td>\n",
       "      <td>11.0</td>\n",
       "      <td>34.0</td>\n",
       "      <td>0.9978</td>\n",
       "      <td>3.51</td>\n",
       "      <td>0.56</td>\n",
       "      <td>9.4</td>\n",
       "      <td>5</td>\n",
       "    </tr>\n",
       "    <tr>\n",
       "      <th>1</th>\n",
       "      <td>7.8</td>\n",
       "      <td>0.88</td>\n",
       "      <td>0.00</td>\n",
       "      <td>2.6</td>\n",
       "      <td>0.098</td>\n",
       "      <td>25.0</td>\n",
       "      <td>67.0</td>\n",
       "      <td>0.9968</td>\n",
       "      <td>3.20</td>\n",
       "      <td>0.68</td>\n",
       "      <td>9.8</td>\n",
       "      <td>5</td>\n",
       "    </tr>\n",
       "    <tr>\n",
       "      <th>2</th>\n",
       "      <td>7.8</td>\n",
       "      <td>0.76</td>\n",
       "      <td>0.04</td>\n",
       "      <td>2.3</td>\n",
       "      <td>0.092</td>\n",
       "      <td>15.0</td>\n",
       "      <td>54.0</td>\n",
       "      <td>0.9970</td>\n",
       "      <td>3.26</td>\n",
       "      <td>0.65</td>\n",
       "      <td>9.8</td>\n",
       "      <td>5</td>\n",
       "    </tr>\n",
       "  </tbody>\n",
       "</table>\n",
       "</div>"
      ],
      "text/plain": [
       "   fixed acidity  volatile acidity  citric acid  residual sugar  chlorides  \\\n",
       "0            7.4              0.70         0.00             1.9      0.076   \n",
       "1            7.8              0.88         0.00             2.6      0.098   \n",
       "2            7.8              0.76         0.04             2.3      0.092   \n",
       "\n",
       "   free sulfur dioxide  total sulfur dioxide  density    pH  sulphates  \\\n",
       "0                 11.0                  34.0   0.9978  3.51       0.56   \n",
       "1                 25.0                  67.0   0.9968  3.20       0.68   \n",
       "2                 15.0                  54.0   0.9970  3.26       0.65   \n",
       "\n",
       "   alcohol  quality  \n",
       "0      9.4        5  \n",
       "1      9.8        5  \n",
       "2      9.8        5  "
      ]
     },
     "execution_count": 4,
     "metadata": {},
     "output_type": "execute_result"
    }
   ],
   "source": [
    "data().head(3)"
   ]
  },
  {
   "cell_type": "code",
   "execution_count": 5,
   "metadata": {},
   "outputs": [],
   "source": [
    "def build_model(X_train, y_train):\n",
    "    print(\"*** in build_model ***\")\n",
    "    pipeline = make_pipeline(preprocessing.StandardScaler(), \n",
    "                             RandomForestRegressor(n_estimators=100))\n",
    "    hyperparameters = { 'randomforestregressor__max_features' : ['auto', 'sqrt', 'log2'],\n",
    "                      'randomforestregressor__max_depth': [None, 5, 3, 1]}\n",
    "\n",
    "    clf = GridSearchCV(pipeline, hyperparameters, cv=10)\n",
    "    \n",
    "    clf.fit(X_train, y_train)\n",
    "    return clf\n",
    " \n",
    "    \n",
    "def model_stats(clf, X_test, y_test) -> str:\n",
    "    print(\"*** in model_stats ***\")\n",
    "    pred = clf.predict(X_test)\n",
    "    return json.dumps({\n",
    "#         \"r2_score\": r2_score(y_test, pred),\n",
    "        \"mse\": mean_squared_error(y_test, pred)\n",
    "    })\n",
    "    \n",
    "    \n",
    "def pipeline():\n",
    "    wine_data = data()\n",
    "    y = wine_data.quality\n",
    "    X = wine_data.drop('quality', axis=1)\n",
    "    X_train, X_test, y_train, y_test = train_test_split(X, y, \n",
    "                                                        test_size=0.15, \n",
    "                                                        random_state=123, \n",
    "                                                        stratify=y)\n",
    "    clf = dds.keep(path_model, build_model, X_train, y_train)\n",
    "    dds.keep(path_model_stats, model_stats, clf, X_test, y_test)\n",
    "    print(\"*** done ***\")\n",
    "\n",
    "\n",
    "# dds.eval(pipeline, dds_export_graph=\"1.png\")\n"
   ]
  },
  {
   "cell_type": "code",
   "execution_count": 6,
   "metadata": {},
   "outputs": [],
   "source": [
    "%%sh\n",
    "# cat /tmp/data/wine-quality/my_model_stats.json"
   ]
  },
  {
   "cell_type": "code",
   "execution_count": 23,
   "metadata": {},
   "outputs": [
    {
     "name": "stderr",
     "output_type": "stream",
     "text": [
      "INFO:dds._api:Interaction tree:\n",
      "INFO:dds._api:`- Fun <__main__.f> @ cbe62eade1\n",
      "INFO:dds._api:   |- Ctx None\n",
      "INFO:dds._api:   |- Fun <__main__.f4> /p4 <- *f609f1b0e3\n",
      "INFO:dds._api:   |  `- Ctx 0ba3d60391\n",
      "INFO:dds._api:   `- Fun <__main__.f3> /p3 <- *5641341715\n",
      "INFO:dds._api:      |- Ctx 0924e5971c\n",
      "INFO:dds._api:      |- Fun <__main__.f1> /p1 <- *5288fae92e\n",
      "INFO:dds._api:      |  `- Ctx 209b35c622\n",
      "INFO:dds._api:      `- Fun <__main__.f2> /p2 <- *28bf1959ff\n",
      "INFO:dds._api:         |- Ctx 249adb3e74\n",
      "INFO:dds._api:         `- Fun <__main__.f1> /p1 <- *5288fae92e\n",
      "INFO:dds._api:            `- Ctx d01522cc79\n",
      "INFO:dds._api:_eval_new_ctx:Evaluating (eval) fun <function f at 0x7fd603c581f0> with args [] kwargs OrderedDict()\n",
      "INFO:dds._api:_eval_new_ctx:Evaluating (eval) fun <function f at 0x7fd603c581f0>: completed\n"
     ]
    }
   ],
   "source": [
    "\n",
    "@dds.dds_function(\"/p1\")\n",
    "def f1(): return 2\n",
    "\n",
    "@dds.dds_function(\"/p2\")\n",
    "def f2(): return 2 + f1()\n",
    "\n",
    "@dds.dds_function(\"/p3\")\n",
    "def f3(): return 1 + f1() + f2()\n",
    "\n",
    "@dds.dds_function(\"/p4\")\n",
    "def f4(): return 1\n",
    "\n",
    "\n",
    "def f():\n",
    "    f4()\n",
    "    f3()\n",
    "\n",
    "dds.eval(f, dds_export_graph=\"/tmp/2.png\", dds_extra_debug=True)"
   ]
  },
  {
   "cell_type": "code",
   "execution_count": 24,
   "metadata": {},
   "outputs": [
    {
     "data": {
      "image/png": "[encoded data removed]",
      "text/plain": [
       "<IPython.core.display.Image object>"
      ]
     },
     "execution_count": 24,
     "metadata": {},
     "output_type": "execute_result"
    }
   ],
   "source": [
    "from IPython.display import Image\n",
    "Image(\"/tmp/2.png\")"
   ]
  },
  {
   "cell_type": "code",
   "execution_count": null,
   "metadata": {},
   "outputs": [],
   "source": []
  }
 ],
 "metadata": {
  "kernelspec": {
   "display_name": "Python 3",
   "language": "python",
   "name": "python3"
  },
  "language_info": {
   "codemirror_mode": {
    "name": "ipython",
    "version": 3
   },
   "file_extension": ".py",
   "mimetype": "text/x-python",
   "name": "python",
   "nbconvert_exporter": "python",
   "pygments_lexer": "ipython3",
   "version": "3.8.5"
  }
 },
 "nbformat": 4,
 "nbformat_minor": 4
}
