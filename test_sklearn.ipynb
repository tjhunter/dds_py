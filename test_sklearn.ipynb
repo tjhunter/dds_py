{
 "cells": [
  {
   "cell_type": "code",
   "execution_count": 1,
   "metadata": {},
   "outputs": [],
   "source": [
    "# Adaptation of https://elitedatascience.com/python-machine-learning-tutorial-scikit-learn\n",
    "import dds\n",
    "import sklearn\n",
    "import pandas as pd\n",
    "import logging\n",
    "logging.basicConfig(level=logging.INFO)\n",
    "\n",
    "import numpy as np\n",
    "import pandas as pd\n",
    " \n",
    "from sklearn.model_selection import train_test_split\n",
    "from sklearn import preprocessing\n",
    "from sklearn.ensemble import RandomForestRegressor\n",
    "from sklearn.pipeline import make_pipeline\n",
    "from sklearn.model_selection import GridSearchCV\n",
    "from sklearn.metrics import mean_squared_error, r2_score\n",
    "import requests\n",
    "import io\n",
    "import json\n"
   ]
  },
  {
   "cell_type": "code",
   "execution_count": 2,
   "metadata": {},
   "outputs": [],
   "source": [
    "%%sh\n",
    "rm -rf /tmp/data/*\n",
    "rm -rf /tmp/blobs/*"
   ]
  },
  {
   "cell_type": "code",
   "execution_count": 3,
   "metadata": {},
   "outputs": [],
   "source": [
    "path_raw = \"/wine-quality/raw\"\n",
    "path_model = \"/wine-quality/my_model\"\n",
    "path_model_stats = \"/wine-quality/my_model_stats.json\"\n",
    "\n",
    "def _load_data():\n",
    "    print(\"*** in _load_data ***\")\n",
    "    url = \"https://raw.githubusercontent.com/zygmuntz/wine-quality/master/winequality/winequality-red.csv\"\n",
    "    x = requests.get(url=url, verify=False).content \n",
    "    return pd.read_csv(io.StringIO(x.decode('utf8')), sep=\";\")\n",
    "\n",
    "\n",
    "def data():\n",
    "    return dds.keep(path_raw, _load_data)\n",
    "# data = lambda: dds.keep(path_raw, _load_data)"
   ]
  },
  {
   "cell_type": "code",
   "execution_count": 4,
   "metadata": {},
   "outputs": [
    {
     "name": "stderr",
     "output_type": "stream",
     "text": [
      "INFO:dds._api:Interaction tree:\n",
      "INFO:dds._api:`- Fun <__main__._load_data> /wine-quality/raw <- ccd1ea31245b11507b79fdf02946f9438d7de3b6933ac87348ed8cb94a7bc0d5\n",
      "INFO:dds._api:_eval_new_ctx:Evaluating (eval) fun <function _load_data at 0x7f8ec78a1280> with args [] kwargs OrderedDict()\n",
      "/home/tjhunter/work/software/miniconda/envs/dds/lib/python3.8/site-packages/urllib3/connectionpool.py:981: InsecureRequestWarning: Unverified HTTPS request is being made to host 'raw.githubusercontent.com'. Adding certificate verification is strongly advised. See: https://urllib3.readthedocs.io/en/latest/advanced-usage.html#ssl-warnings\n",
      "  warnings.warn(\n",
      "INFO:dds._api:_eval_new_ctx:Evaluating (eval) fun <function _load_data at 0x7f8ec78a1280>: completed\n",
      "INFO:dds._api:_eval:Storing blob into key ccd1ea31245b11507b79fdf02946f9438d7de3b6933ac87348ed8cb94a7bc0d5\n",
      "INFO:dds.codec:Loading pandas codecs\n"
     ]
    },
    {
     "name": "stdout",
     "output_type": "stream",
     "text": [
      "*** in _load_data ***\n"
     ]
    },
    {
     "name": "stderr",
     "output_type": "stream",
     "text": [
      "INFO:dds.store:Link /tmp/data/wine-quality/raw -> /tmp/blobs/ccd1ea31245b11507b79fdf02946f9438d7de3b6933ac87348ed8cb94a7bc0d5\n"
     ]
    },
    {
     "data": {
      "text/html": [
       "<div>\n",
       "<style scoped>\n",
       "    .dataframe tbody tr th:only-of-type {\n",
       "        vertical-align: middle;\n",
       "    }\n",
       "\n",
       "    .dataframe tbody tr th {\n",
       "        vertical-align: top;\n",
       "    }\n",
       "\n",
       "    .dataframe thead th {\n",
       "        text-align: right;\n",
       "    }\n",
       "</style>\n",
       "<table border=\"1\" class=\"dataframe\">\n",
       "  <thead>\n",
       "    <tr style=\"text-align: right;\">\n",
       "      <th></th>\n",
       "      <th>fixed acidity</th>\n",
       "      <th>volatile acidity</th>\n",
       "      <th>citric acid</th>\n",
       "      <th>residual sugar</th>\n",
       "      <th>chlorides</th>\n",
       "      <th>free sulfur dioxide</th>\n",
       "      <th>total sulfur dioxide</th>\n",
       "      <th>density</th>\n",
       "      <th>pH</th>\n",
       "      <th>sulphates</th>\n",
       "      <th>alcohol</th>\n",
       "      <th>quality</th>\n",
       "    </tr>\n",
       "  </thead>\n",
       "  <tbody>\n",
       "    <tr>\n",
       "      <th>0</th>\n",
       "      <td>7.4</td>\n",
       "      <td>0.70</td>\n",
       "      <td>0.00</td>\n",
       "      <td>1.9</td>\n",
       "      <td>0.076</td>\n",
       "      <td>11.0</td>\n",
       "      <td>34.0</td>\n",
       "      <td>0.9978</td>\n",
       "      <td>3.51</td>\n",
       "      <td>0.56</td>\n",
       "      <td>9.4</td>\n",
       "      <td>5</td>\n",
       "    </tr>\n",
       "    <tr>\n",
       "      <th>1</th>\n",
       "      <td>7.8</td>\n",
       "      <td>0.88</td>\n",
       "      <td>0.00</td>\n",
       "      <td>2.6</td>\n",
       "      <td>0.098</td>\n",
       "      <td>25.0</td>\n",
       "      <td>67.0</td>\n",
       "      <td>0.9968</td>\n",
       "      <td>3.20</td>\n",
       "      <td>0.68</td>\n",
       "      <td>9.8</td>\n",
       "      <td>5</td>\n",
       "    </tr>\n",
       "    <tr>\n",
       "      <th>2</th>\n",
       "      <td>7.8</td>\n",
       "      <td>0.76</td>\n",
       "      <td>0.04</td>\n",
       "      <td>2.3</td>\n",
       "      <td>0.092</td>\n",
       "      <td>15.0</td>\n",
       "      <td>54.0</td>\n",
       "      <td>0.9970</td>\n",
       "      <td>3.26</td>\n",
       "      <td>0.65</td>\n",
       "      <td>9.8</td>\n",
       "      <td>5</td>\n",
       "    </tr>\n",
       "  </tbody>\n",
       "</table>\n",
       "</div>"
      ],
      "text/plain": [
       "   fixed acidity  volatile acidity  citric acid  residual sugar  chlorides  \\\n",
       "0            7.4              0.70         0.00             1.9      0.076   \n",
       "1            7.8              0.88         0.00             2.6      0.098   \n",
       "2            7.8              0.76         0.04             2.3      0.092   \n",
       "\n",
       "   free sulfur dioxide  total sulfur dioxide  density    pH  sulphates  \\\n",
       "0                 11.0                  34.0   0.9978  3.51       0.56   \n",
       "1                 25.0                  67.0   0.9968  3.20       0.68   \n",
       "2                 15.0                  54.0   0.9970  3.26       0.65   \n",
       "\n",
       "   alcohol  quality  \n",
       "0      9.4        5  \n",
       "1      9.8        5  \n",
       "2      9.8        5  "
      ]
     },
     "execution_count": 4,
     "metadata": {},
     "output_type": "execute_result"
    }
   ],
   "source": [
    "data().head(3)"
   ]
  },
  {
   "cell_type": "code",
   "execution_count": 5,
   "metadata": {},
   "outputs": [
    {
     "name": "stderr",
     "output_type": "stream",
     "text": [
      "INFO:dds._api:Interaction tree:\n",
      "INFO:dds._api:`- Fun <__main__.pipeline> @ 229b55671940c51e042f2ac064aa2d3bfc8f2058927b8aa619ba1b9bb5077091\n",
      "INFO:dds._api:   |- Dep path_model -> <__main__.path_model>: 4697524b4c751aacee319944ec2f0a265336dc96ff692488d7cbc071fc6a3733\n",
      "INFO:dds._api:   |- Dep path_model_stats -> <__main__.path_model_stats>: 110ff33eb1f89810ce6af6621ae232ae55f5408eb739bd82972c361bffaa48da\n",
      "INFO:dds._api:   |- Fun <__main__.data> @ 5e8a4da56caebb0454d220e6ba491b35d7200a317b410d6a549d9d49e911b6b8\n",
      "INFO:dds._api:   |  |- Ctx 2af8fc03bd539aff5bbf9ccae9d82d7921223c8b858fe0c0f2d53f8260794f49\n",
      "INFO:dds._api:   |  |- Dep path_raw -> <__main__.path_raw>: a1a3ce5966bea811120114207d004b9d61fea3f19ca024e5d8d0632fb90c40f4\n",
      "INFO:dds._api:   |  `- Fun <__main__._load_data> /wine-quality/raw <- ccd1ea31245b11507b79fdf02946f9438d7de3b6933ac87348ed8cb94a7bc0d5\n",
      "INFO:dds._api:   |     `- Ctx ba4c7d935aed88c22a170e6814c291cc3106a429cd443d7cf78c35a749ee1120\n",
      "INFO:dds._api:   |- Fun <__main__.build_model> /wine-quality/my_model <- 6ef0a57e73e137b36f41b062f3a017321a83e3dbf25b89558b754772985a0dd3\n",
      "INFO:dds._api:   |  |- Ctx b591fba864750ebfe7d7385b5c74e8b07608cfae8e4b0f358480832e881d9d6b\n",
      "INFO:dds._api:   |  |- Arg X_train: None\n",
      "INFO:dds._api:   |  `- Arg y_train: None\n",
      "INFO:dds._api:   `- Fun <__main__.model_stats> /wine-quality/my_model_stats.json <- 05cac26ad02960d1e81685e3a8069b939544b0d8fdc801d3079e023c467eec15\n",
      "INFO:dds._api:      |- Ctx e79d67b6574570ae54f49e83459fd0c21fd89682c1c07dfa267039dcc852c883\n",
      "INFO:dds._api:      |- Arg clf: None\n",
      "INFO:dds._api:      |- Arg X_test: None\n",
      "INFO:dds._api:      `- Arg y_test: None\n",
      "INFO:dds._api:_eval_new_ctx:Evaluating (eval) fun <function pipeline at 0x7f8ec41ce430> with args [] kwargs OrderedDict()\n",
      "INFO:dds._api:_eval:Evaluating (keep:/wine-quality/my_model) fun <function build_model at 0x7f8ec41ce280> with args [\"<class 'pandas.core.frame.DataFrame'>\", \"<class 'pandas.core.series.Series'>\"] kwargs OrderedDict()\n"
     ]
    },
    {
     "name": "stdout",
     "output_type": "stream",
     "text": [
      "*** in build_model ***\n"
     ]
    },
    {
     "name": "stderr",
     "output_type": "stream",
     "text": [
      "INFO:dds._api:_eval:Evaluating (keep:/wine-quality/my_model) fun <function build_model at 0x7f8ec41ce280>: completed\n",
      "INFO:dds._api:_eval:Storing blob into key 6ef0a57e73e137b36f41b062f3a017321a83e3dbf25b89558b754772985a0dd3\n",
      "INFO:dds._api:_eval:Evaluating (keep:/wine-quality/my_model_stats.json) fun <function model_stats at 0x7f8ec41ce3a0> with args [\"<class 'sklearn.model_selection._search.GridSearchCV'>\", \"<class 'pandas.core.frame.DataFrame'>\", \"<class 'pandas.core.series.Series'>\"] kwargs OrderedDict()\n",
      "INFO:dds._api:_eval:Evaluating (keep:/wine-quality/my_model_stats.json) fun <function model_stats at 0x7f8ec41ce3a0>: completed\n",
      "INFO:dds._api:_eval:Storing blob into key 05cac26ad02960d1e81685e3a8069b939544b0d8fdc801d3079e023c467eec15\n",
      "INFO:dds._api:_eval_new_ctx:Evaluating (eval) fun <function pipeline at 0x7f8ec41ce430>: completed\n",
      "INFO:dds.store:Link /tmp/data/wine-quality/my_model -> /tmp/blobs/6ef0a57e73e137b36f41b062f3a017321a83e3dbf25b89558b754772985a0dd3\n",
      "INFO:dds.store:Link /tmp/data/wine-quality/my_model_stats.json -> /tmp/blobs/05cac26ad02960d1e81685e3a8069b939544b0d8fdc801d3079e023c467eec15\n"
     ]
    },
    {
     "name": "stdout",
     "output_type": "stream",
     "text": [
      "*** in model_stats ***\n",
      "*** done ***\n"
     ]
    }
   ],
   "source": [
    "def build_model(X_train, y_train):\n",
    "    print(\"*** in build_model ***\")\n",
    "    pipeline = make_pipeline(preprocessing.StandardScaler(), \n",
    "                             RandomForestRegressor(n_estimators=100))\n",
    "    hyperparameters = { 'randomforestregressor__max_features' : ['auto', 'sqrt', 'log2'],\n",
    "                      'randomforestregressor__max_depth': [None, 5, 3, 1]}\n",
    "\n",
    "    clf = GridSearchCV(pipeline, hyperparameters, cv=10)\n",
    "    \n",
    "    clf.fit(X_train, y_train)\n",
    "    return clf\n",
    " \n",
    "    \n",
    "def model_stats(clf, X_test, y_test) -> str:\n",
    "    print(\"*** in model_stats ***\")\n",
    "    pred = clf.predict(X_test)\n",
    "    return json.dumps({\n",
    "#         \"r2_score\": r2_score(y_test, pred),\n",
    "        \"mse\": mean_squared_error(y_test, pred)\n",
    "    })\n",
    "    \n",
    "    \n",
    "def pipeline():\n",
    "    wine_data = data()\n",
    "    y = wine_data.quality\n",
    "    X = wine_data.drop('quality', axis=1)\n",
    "    X_train, X_test, y_train, y_test = train_test_split(X, y, \n",
    "                                                        test_size=0.15, \n",
    "                                                        random_state=123, \n",
    "                                                        stratify=y)\n",
    "    clf = dds.keep(path_model, build_model, X_train, y_train)\n",
    "    dds.keep(path_model_stats, model_stats, clf, X_test, y_test)\n",
    "    print(\"*** done ***\")\n",
    "\n",
    "\n",
    "dds.eval(pipeline)\n"
   ]
  },
  {
   "cell_type": "code",
   "execution_count": 6,
   "metadata": {},
   "outputs": [
    {
     "name": "stdout",
     "output_type": "stream",
     "text": [
      "{\"mse\": 0.3352866666666666}"
     ]
    }
   ],
   "source": [
    "%%sh\n",
    "cat /tmp/data/wine-quality/my_model_stats.json"
   ]
  },
  {
   "cell_type": "code",
   "execution_count": 7,
   "metadata": {},
   "outputs": [],
   "source": [
    "    \n",
    "    # # 8. Refit on the entire training set\n",
    "# # No additional code needed if clf.refit == True (default is True)\n",
    " \n",
    "# # 9. Evaluate model pipeline on test data\n",
    "# pred = clf.predict(X_test)\n",
    "# print r2_score(y_test, pred)\n",
    "# print mean_squared_error(y_test, pred)\n",
    " \n",
    "# # 10. Save model for future use\n",
    "# joblib.dump(clf, 'rf_regressor.pkl')"
   ]
  }
 ],
 "metadata": {
  "kernelspec": {
   "display_name": "Python 3",
   "language": "python",
   "name": "python3"
  },
  "language_info": {
   "codemirror_mode": {
    "name": "ipython",
    "version": 3
   },
   "file_extension": ".py",
   "mimetype": "text/x-python",
   "name": "python",
   "nbconvert_exporter": "python",
   "pygments_lexer": "ipython3",
   "version": "3.8.5"
  }
 },
 "nbformat": 4,
 "nbformat_minor": 4
}
