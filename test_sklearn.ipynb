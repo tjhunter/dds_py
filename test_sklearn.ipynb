{
 "cells": [
  {
   "cell_type": "code",
   "execution_count": 1,
   "metadata": {},
   "outputs": [],
   "source": [
    "%%sh\n",
    "rm -rf /tmp/dds\n",
    "rm -rf /tmp/*png"
   ]
  },
  {
   "cell_type": "code",
   "execution_count": 2,
   "metadata": {},
   "outputs": [],
   "source": [
    "# Adaptation of https://elitedatascience.com/python-machine-learning-tutorial-scikit-learn\n",
    "import logging\n",
    "logging.basicConfig(level=logging.INFO)\n",
    "import sklearn\n",
    "import pandas as pd\n",
    "import dds\n",
    "\n",
    "import numpy as np\n",
    "import pandas as pd\n",
    " \n",
    "from sklearn.model_selection import train_test_split\n",
    "from sklearn import preprocessing\n",
    "from sklearn.ensemble import RandomForestRegressor\n",
    "from sklearn.pipeline import make_pipeline\n",
    "from sklearn.model_selection import GridSearchCV\n",
    "from sklearn.metrics import mean_squared_error, r2_score\n",
    "import requests\n",
    "import io\n",
    "import json\n"
   ]
  },
  {
   "cell_type": "code",
   "execution_count": 3,
   "metadata": {},
   "outputs": [
    {
     "name": "stdout",
     "output_type": "stream",
     "text": [
      "total 0\n",
      "drwxr-xr-x 1 ubuntu ubuntu 4096 Oct 10 13:20 .\n",
      "drwxrwxrwt 1 root   root   4096 Oct 10 13:20 ..\n",
      "drwxr-xr-x 1 ubuntu ubuntu 4096 Oct 10 13:20 data\n",
      "drwxr-xr-x 1 ubuntu ubuntu 4096 Oct 10 13:20 internal\n"
     ]
    }
   ],
   "source": [
    "%%sh\n",
    "ls -la /tmp/dds"
   ]
  },
  {
   "cell_type": "code",
   "execution_count": 4,
   "metadata": {},
   "outputs": [],
   "source": [
    "path_model = \"/wine-quality/my_model\"\n",
    "path_model_stats = \"/wine-quality/my_model_stats.json\"\n",
    "\n",
    "@dds.dds_function(\"/wine-quality/raw\")\n",
    "def data():\n",
    "    print(\"*** in _load_data ***\")\n",
    "    url = \"https://raw.githubusercontent.com/zygmuntz/wine-quality/master/winequality/winequality-red.csv\"\n",
    "    x = requests.get(url=url, verify=False).content \n",
    "    return pd.read_csv(io.StringIO(x.decode('utf8')), sep=\";\")\n"
   ]
  },
  {
   "cell_type": "code",
   "execution_count": 5,
   "metadata": {
    "scrolled": true
   },
   "outputs": [
    {
     "name": "stderr",
     "output_type": "stream",
     "text": [
      "INFO:dds._api:Interaction tree:\n",
      "INFO:dds._api:`- Fun <__main__.data> /wine-quality/raw <- *0af659b1a6\n",
      "INFO:dds._api:   `- Ctx None\n",
      "INFO:dds._api:Stage analysis: 0.234 sec 100.00%\n",
      "INFO:dds._api:Stage store_inspect: 0.000 sec 0.00%\n",
      "INFO:dds._api:Stage eval: 0.000 sec 0.00%\n",
      "INFO:dds._api:Stage store_commit: 0.000 sec 0.00%\n",
      "INFO:dds._api:Stage path_commit: 0.000 sec 0.00%\n"
     ]
    },
    {
     "data": {
      "image/png": "[encoded data removed]",
      "text/plain": [
       "<IPython.core.display.Image object>"
      ]
     },
     "execution_count": 5,
     "metadata": {},
     "output_type": "execute_result"
    }
   ],
   "source": [
    "dds.eval(data, dds_export_graph=\"/tmp/2.png\", dds_extra_debug=True, dds_stages=[\"analysis\"])\n",
    "from IPython.display import Image\n",
    "Image(\"/tmp/2.png\")"
   ]
  },
  {
   "cell_type": "code",
   "execution_count": 6,
   "metadata": {
    "scrolled": false
   },
   "outputs": [
    {
     "name": "stderr",
     "output_type": "stream",
     "text": [
      "INFO:dds._api:Interaction tree:\n",
      "INFO:dds._api:`- Fun <__main__.data> /wine-quality/raw <- *0af659b1a6\n",
      "INFO:dds._api:   `- Ctx None\n",
      "INFO:dds._api:_eval_new_ctx:Evaluating (eval) fun <function data at 0x7f57d96e1310> with args [] kwargs OrderedDict()\n"
     ]
    },
    {
     "name": "stdout",
     "output_type": "stream",
     "text": [
      "*** in _load_data ***\n"
     ]
    },
    {
     "name": "stderr",
     "output_type": "stream",
     "text": [
      "/home/ubuntu/miniconda/envs/dds/lib/python3.8/site-packages/urllib3/connectionpool.py:981: InsecureRequestWarning: Unverified HTTPS request is being made to host 'nl-userproxy-access.net.abnamro.com'. Adding certificate verification is strongly advised. See: https://urllib3.readthedocs.io/en/latest/advanced-usage.html#ssl-warnings\n",
      "  warnings.warn(\n",
      "INFO:dds._api:_eval_new_ctx:Evaluating (eval) fun <function data at 0x7f57d96e1310>: completed\n",
      "INFO:dds._api:_eval:Storing blob into key 0af659b1a61a8bc462525030bd375a7083587a5921ced0aa71c81bad78a4128b\n",
      "INFO:dds.codec:Loading pandas codecs\n",
      "INFO:dds.store:Link /tmp/dds/data/wine-quality/raw -> /tmp/dds/internal/blobs/0af659b1a61a8bc462525030bd375a7083587a5921ced0aa71c81bad78a4128b\n",
      "INFO:dds._api:Stage analysis: 0.020 sec 2.42%\n",
      "INFO:dds._api:Stage store_inspect: 0.000 sec 0.00%\n",
      "INFO:dds._api:Stage eval: 0.691 sec 84.44%\n",
      "INFO:dds._api:Stage store_commit: 0.103 sec 12.59%\n",
      "INFO:dds._api:Stage path_commit: 0.005 sec 0.55%\n"
     ]
    },
    {
     "data": {
      "text/html": [
       "<div>\n",
       "<style scoped>\n",
       "    .dataframe tbody tr th:only-of-type {\n",
       "        vertical-align: middle;\n",
       "    }\n",
       "\n",
       "    .dataframe tbody tr th {\n",
       "        vertical-align: top;\n",
       "    }\n",
       "\n",
       "    .dataframe thead th {\n",
       "        text-align: right;\n",
       "    }\n",
       "</style>\n",
       "<table border=\"1\" class=\"dataframe\">\n",
       "  <thead>\n",
       "    <tr style=\"text-align: right;\">\n",
       "      <th></th>\n",
       "      <th>fixed acidity</th>\n",
       "      <th>volatile acidity</th>\n",
       "      <th>citric acid</th>\n",
       "      <th>residual sugar</th>\n",
       "      <th>chlorides</th>\n",
       "      <th>free sulfur dioxide</th>\n",
       "      <th>total sulfur dioxide</th>\n",
       "      <th>density</th>\n",
       "      <th>pH</th>\n",
       "      <th>sulphates</th>\n",
       "      <th>alcohol</th>\n",
       "      <th>quality</th>\n",
       "    </tr>\n",
       "  </thead>\n",
       "  <tbody>\n",
       "    <tr>\n",
       "      <th>0</th>\n",
       "      <td>7.4</td>\n",
       "      <td>0.70</td>\n",
       "      <td>0.00</td>\n",
       "      <td>1.9</td>\n",
       "      <td>0.076</td>\n",
       "      <td>11.0</td>\n",
       "      <td>34.0</td>\n",
       "      <td>0.9978</td>\n",
       "      <td>3.51</td>\n",
       "      <td>0.56</td>\n",
       "      <td>9.4</td>\n",
       "      <td>5</td>\n",
       "    </tr>\n",
       "    <tr>\n",
       "      <th>1</th>\n",
       "      <td>7.8</td>\n",
       "      <td>0.88</td>\n",
       "      <td>0.00</td>\n",
       "      <td>2.6</td>\n",
       "      <td>0.098</td>\n",
       "      <td>25.0</td>\n",
       "      <td>67.0</td>\n",
       "      <td>0.9968</td>\n",
       "      <td>3.20</td>\n",
       "      <td>0.68</td>\n",
       "      <td>9.8</td>\n",
       "      <td>5</td>\n",
       "    </tr>\n",
       "    <tr>\n",
       "      <th>2</th>\n",
       "      <td>7.8</td>\n",
       "      <td>0.76</td>\n",
       "      <td>0.04</td>\n",
       "      <td>2.3</td>\n",
       "      <td>0.092</td>\n",
       "      <td>15.0</td>\n",
       "      <td>54.0</td>\n",
       "      <td>0.9970</td>\n",
       "      <td>3.26</td>\n",
       "      <td>0.65</td>\n",
       "      <td>9.8</td>\n",
       "      <td>5</td>\n",
       "    </tr>\n",
       "  </tbody>\n",
       "</table>\n",
       "</div>"
      ],
      "text/plain": [
       "   fixed acidity  volatile acidity  citric acid  residual sugar  chlorides  \\\n",
       "0            7.4              0.70         0.00             1.9      0.076   \n",
       "1            7.8              0.88         0.00             2.6      0.098   \n",
       "2            7.8              0.76         0.04             2.3      0.092   \n",
       "\n",
       "   free sulfur dioxide  total sulfur dioxide  density    pH  sulphates  \\\n",
       "0                 11.0                  34.0   0.9978  3.51       0.56   \n",
       "1                 25.0                  67.0   0.9968  3.20       0.68   \n",
       "2                 15.0                  54.0   0.9970  3.26       0.65   \n",
       "\n",
       "   alcohol  quality  \n",
       "0      9.4        5  \n",
       "1      9.8        5  \n",
       "2      9.8        5  "
      ]
     },
     "execution_count": 6,
     "metadata": {},
     "output_type": "execute_result"
    }
   ],
   "source": [
    "data().head(3)"
   ]
  },
  {
   "cell_type": "code",
   "execution_count": 7,
   "metadata": {},
   "outputs": [],
   "source": [
    "def build_model(X_train, y_train):\n",
    "    print(\"*** in build_model ***\")\n",
    "    pipeline = make_pipeline(preprocessing.StandardScaler(), \n",
    "                             RandomForestRegressor(n_estimators=100))\n",
    "    hyperparameters = { 'randomforestregressor__max_features' : ['auto', 'sqrt', 'log2'],\n",
    "                      'randomforestregressor__max_depth': [None, 5, 3, 1]}\n",
    "\n",
    "    clf = GridSearchCV(pipeline, hyperparameters, cv=10)\n",
    "    \n",
    "    clf.fit(X_train, y_train)\n",
    "    return clf\n",
    " \n",
    "    \n",
    "def model_stats(clf, X_test, y_test) -> str:\n",
    "    print(\"*** in model_stats ***\")\n",
    "    pred = clf.predict(X_test)\n",
    "    return json.dumps({\n",
    "#         \"r2_score\": r2_score(y_test, pred),\n",
    "        \"mse\": mean_squared_error(y_test, pred)\n",
    "    })\n",
    "    \n",
    "    \n",
    "def pipeline():\n",
    "    wine_data = data()\n",
    "    y = wine_data.quality\n",
    "    X = wine_data.drop('quality', axis=1)\n",
    "    X_train, X_test, y_train, y_test = train_test_split(X, y, \n",
    "                                                        test_size=0.15, \n",
    "                                                        random_state=123, \n",
    "                                                        stratify=y)\n",
    "    clf = dds.keep(path_model, build_model, X_train, y_train)\n",
    "    dds.keep(path_model_stats, model_stats, clf, X_test, y_test)\n",
    "    print(\"*** done ***\")\n",
    "\n",
    "\n",
    "# dds.eval(pipeline, dds_export_graph=\"1.png\")\n"
   ]
  },
  {
   "cell_type": "code",
   "execution_count": 8,
   "metadata": {},
   "outputs": [],
   "source": [
    "%%sh\n",
    "# cat /tmp/data/wine-quality/my_model_stats.json"
   ]
  },
  {
   "cell_type": "code",
   "execution_count": 9,
   "metadata": {},
   "outputs": [
    {
     "name": "stderr",
     "output_type": "stream",
     "text": [
      "INFO:dds._api:Interaction tree:\n",
      "INFO:dds._api:`- Fun <__main__.f> @ 74b41a0504\n",
      "INFO:dds._api:   |- Ctx None\n",
      "INFO:dds._api:   |- Fun <__main__.f4> /p4 <- *f609f1b0e3\n",
      "INFO:dds._api:   |  `- Ctx 0ba3d60391\n",
      "INFO:dds._api:   `- Fun <__main__.f3> /p3 <- *92cf83be00\n",
      "INFO:dds._api:      |- Ctx 0924e5971c\n",
      "INFO:dds._api:      |- Fun <__main__.f1> /p1 <- *545aff11a9\n",
      "INFO:dds._api:      |  `- Ctx 209b35c622\n",
      "INFO:dds._api:      `- Fun <__main__.f2> /p2 <- *8437be3b61\n",
      "INFO:dds._api:         |- Ctx da14d7d9b2\n",
      "INFO:dds._api:         `- ~~Fun <__main__.f1> /p1 <- *545aff11a9\n",
      "INFO:dds._api:Stage analysis: 0.338 sec 100.00%\n",
      "INFO:dds._api:Stage store_inspect: 0.000 sec 0.00%\n",
      "INFO:dds._api:Stage eval: 0.000 sec 0.00%\n",
      "INFO:dds._api:Stage store_commit: 0.000 sec 0.00%\n",
      "INFO:dds._api:Stage path_commit: 0.000 sec 0.00%\n"
     ]
    },
    {
     "data": {
      "image/png": "[encoded data removed]",
      "text/plain": [
       "<IPython.core.display.Image object>"
      ]
     },
     "execution_count": 9,
     "metadata": {},
     "output_type": "execute_result"
    }
   ],
   "source": [
    "\n",
    "@dds.dds_function(\"/p1\")\n",
    "def f1(): return 2 \n",
    "\n",
    "@dds.dds_function(\"/p2\")\n",
    "def f2(): return 2 + f1()\n",
    "\n",
    "@dds.dds_function(\"/p3\")\n",
    "def f3(): return 1 + f1() + f2()\n",
    "\n",
    "@dds.dds_function(\"/p4\")\n",
    "def f4(): return 1\n",
    "\n",
    "\n",
    "def f():\n",
    "    f4()\n",
    "    f3()\n",
    "\n",
    "dds.eval(f, dds_export_graph=\"/tmp/2.png\", dds_extra_debug=True, dds_stages=[\"analysis\"])\n",
    "from IPython.display import Image\n",
    "Image(\"/tmp/2.png\")"
   ]
  },
  {
   "cell_type": "code",
   "execution_count": 10,
   "metadata": {
    "scrolled": true
   },
   "outputs": [
    {
     "name": "stderr",
     "output_type": "stream",
     "text": [
      "INFO:dds._api:Interaction tree:\n",
      "INFO:dds._api:`- Fun <__main__.f4> /p4 <- *f609f1b0e3\n",
      "INFO:dds._api:   `- Ctx None\n",
      "INFO:dds._api:_eval_new_ctx:Evaluating (eval) fun <function f4 at 0x7f57d96e1040> with args [] kwargs OrderedDict()\n",
      "INFO:dds._api:_eval_new_ctx:Evaluating (eval) fun <function f4 at 0x7f57d96e1040>: completed\n",
      "INFO:dds._api:_eval:Storing blob into key f609f1b0e386e086668e9d1a7d1cb350deb15aea650f8981e85a163d379af9af\n",
      "INFO:dds.store:Link /tmp/dds/data/p4 -> /tmp/dds/internal/blobs/f609f1b0e386e086668e9d1a7d1cb350deb15aea650f8981e85a163d379af9af\n",
      "INFO:dds._api:Stage analysis: 0.020 sec 62.15%\n",
      "INFO:dds._api:Stage store_inspect: 0.000 sec 0.00%\n",
      "INFO:dds._api:Stage eval: 0.002 sec 7.01%\n",
      "INFO:dds._api:Stage store_commit: 0.006 sec 18.73%\n",
      "INFO:dds._api:Stage path_commit: 0.004 sec 12.12%\n",
      "INFO:dds._api:Interaction tree:\n",
      "INFO:dds._api:`- Fun <__main__.f3> /p3 <- *92cf83be00\n",
      "INFO:dds._api:   |- Ctx None\n",
      "INFO:dds._api:   |- Fun <__main__.f1> /p1 <- *545aff11a9\n",
      "INFO:dds._api:   |  `- Ctx 209b35c622\n",
      "INFO:dds._api:   `- Fun <__main__.f2> /p2 <- *8437be3b61\n",
      "INFO:dds._api:      |- Ctx da14d7d9b2\n",
      "INFO:dds._api:      `- ~~Fun <__main__.f1> /p1 <- *545aff11a9\n",
      "INFO:dds._api:_eval_new_ctx:Evaluating (eval) fun <function f3 at 0x7f57d9759ee0> with args [] kwargs OrderedDict()\n",
      "INFO:dds._api:_eval:Evaluating (keep:/p1) fun <function f1 at 0x7f5819825d30> with args [] kwargs OrderedDict()\n",
      "INFO:dds._api:_eval:Evaluating (keep:/p1) fun <function f1 at 0x7f5819825d30>: completed\n",
      "INFO:dds._api:_eval:Storing blob into key 545aff11a9bb64f1e8444f092935c7e68dc91f52e971bb1bad97bca5659ac950\n",
      "INFO:dds._api:_eval:Evaluating (keep:/p2) fun <function f2 at 0x7f5819825dc0> with args [] kwargs OrderedDict()\n",
      "INFO:dds._api:_eval:Evaluating (keep:/p2) fun <function f2 at 0x7f5819825dc0>: completed\n",
      "INFO:dds._api:_eval:Storing blob into key 8437be3b61315b4e644a23a2d05cbda8b5d1a2aa0f1f71cbfe8bcb752a6e5453\n",
      "INFO:dds._api:_eval_new_ctx:Evaluating (eval) fun <function f3 at 0x7f57d9759ee0>: completed\n",
      "INFO:dds._api:_eval:Storing blob into key 92cf83be007ab982f05a77be39f30310f9342bcf5323c7e74af8465dcbef789b\n",
      "INFO:dds.store:Link /tmp/dds/data/p3 -> /tmp/dds/internal/blobs/92cf83be007ab982f05a77be39f30310f9342bcf5323c7e74af8465dcbef789b\n",
      "INFO:dds.store:Link /tmp/dds/data/p1 -> /tmp/dds/internal/blobs/545aff11a9bb64f1e8444f092935c7e68dc91f52e971bb1bad97bca5659ac950\n",
      "INFO:dds.store:Link /tmp/dds/data/p2 -> /tmp/dds/internal/blobs/8437be3b61315b4e644a23a2d05cbda8b5d1a2aa0f1f71cbfe8bcb752a6e5453\n",
      "INFO:dds._api:Stage analysis: 0.013 sec 25.28%\n",
      "INFO:dds._api:Stage store_inspect: 0.000 sec 0.00%\n",
      "INFO:dds._api:Stage eval: 0.017 sec 33.63%\n",
      "INFO:dds._api:Stage store_commit: 0.013 sec 25.86%\n",
      "INFO:dds._api:Stage path_commit: 0.008 sec 15.23%\n"
     ]
    }
   ],
   "source": [
    "f()"
   ]
  },
  {
   "cell_type": "code",
   "execution_count": null,
   "metadata": {},
   "outputs": [],
   "source": []
  }
 ],
 "metadata": {
  "kernelspec": {
   "display_name": "Python 3",
   "language": "python",
   "name": "python3"
  },
  "language_info": {
   "codemirror_mode": {
    "name": "ipython",
    "version": 3
   },
   "file_extension": ".py",
   "mimetype": "text/x-python",
   "name": "python",
   "nbconvert_exporter": "python",
   "pygments_lexer": "ipython3",
   "version": "3.8.5"
  }
 },
 "nbformat": 4,
 "nbformat_minor": 4
}
