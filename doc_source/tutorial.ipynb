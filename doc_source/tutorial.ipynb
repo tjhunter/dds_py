{
 "cells": [
  {
   "cell_type": "code",
   "execution_count": 1,
   "metadata": {
    "execution": {
     "iopub.execute_input": "2020-12-05T14:06:30.567220Z",
     "iopub.status.busy": "2020-12-05T14:06:30.565890Z",
     "iopub.status.idle": "2020-12-05T14:06:30.579032Z",
     "shell.execute_reply": "2020-12-05T14:06:30.579709Z"
    },
    "tags": [
     "hide_cell"
    ]
   },
   "outputs": [],
   "source": [
    "%%sh\n",
    "# Small cleanup for reproducibility\n",
    "rm -rf /tmp/dds\n",
    "echo \"world\" >> \"input.txt\""
   ]
  },
  {
   "cell_type": "markdown",
   "metadata": {},
   "source": [
    "## Tutorial\n",
    "\n",
    "The `dds` package solves the data integration problem in data science codebases. By using the `dds` package, you can safely assume that:\n",
    "\n",
    " - data consumed or produced is up to date with the current code\n",
    " - if a piece of data (machine learning models, datasets, ...) has already been calculated for a given code, it will immediately be used, dramatically accelerating the run of the code\n",
    "\n",
    "`dds` works by inspecting python code and checking against a central store if its output has already been calculated. In that sense, it can be thought of as a smart caching system that detects if it should rerun calculations.\n",
    "\n",
    "In order to work, `dds` needs two pieces of information:\n",
    "\n",
    " - where to store all the pieces of data (called blobs in `dds` jargon) that have been already calculated. This is by default in `/tmp/dds/data_internal` (or equivalent for your operating system)\n",
    " - where to store all the paths that are being requested for evaluation. It is by default in `/tmp/dds/data_paths`.\n",
    " \n",
    " Here is a simple \"Hello world\" example in DDS:"
   ]
  },
  {
   "cell_type": "code",
   "execution_count": 2,
   "metadata": {
    "execution": {
     "iopub.execute_input": "2020-12-05T14:06:30.589409Z",
     "iopub.status.busy": "2020-12-05T14:06:30.588156Z",
     "iopub.status.idle": "2020-12-05T14:06:30.601005Z",
     "shell.execute_reply": "2020-12-05T14:06:30.601367Z"
    }
   },
   "outputs": [
    {
     "name": "stdout",
     "output_type": "stream",
     "text": [
      "hello_world() has been called\n"
     ]
    },
    {
     "data": {
      "text/plain": [
       "'Hello, world'"
      ]
     },
     "execution_count": 2,
     "metadata": {},
     "output_type": "execute_result"
    }
   ],
   "source": [
    "import dds\n",
    "\n",
    "@dds.dds_function(\"/hello_world\")\n",
    "def hello_world():\n",
    "    print(\"hello_world() has been called\")\n",
    "    return \"Hello, world\"\n",
    "\n",
    "hello_world()"
   ]
  },
  {
   "cell_type": "markdown",
   "metadata": {},
   "source": [
    "When we called the function, a few things happened:\n",
    "\n",
    " - `dds` calculated a unique fingerprint for this function and checked if a blob was already associated for this fingerprint in its storage\n",
    " - since this is the first run, the function was executed and its result was stored in a storage\n",
    " - also, because the output is associated to a path (`/hello_world`), the path `/hello_world` filled with the content of the output.\n",
    "\n",
    "We can in fact see all these outputs in the default store. Here is the file newly created with our welcoming content:"
   ]
  },
  {
   "cell_type": "code",
   "execution_count": 3,
   "metadata": {},
   "outputs": [
    {
     "name": "stdout",
     "output_type": "stream",
     "text": [
      "Hello, world"
     ]
    }
   ],
   "source": [
    "! cat /tmp/dds/data/hello_world"
   ]
  },
  {
   "cell_type": "markdown",
   "metadata": {},
   "source": [
    "But that file is just a link to the unique signature associated with this piece of code:"
   ]
  },
  {
   "cell_type": "code",
   "execution_count": 4,
   "metadata": {},
   "outputs": [
    {
     "name": "stdout",
     "output_type": "stream",
     "text": [
      "/tmp/dds/internal/blobs/7f96a7c7b03977a1b296381ce9ecdcd6a378e6f891ef7da1433d2bfb1f747f8c\r\n"
     ]
    }
   ],
   "source": [
    "! readlink -f /tmp/dds/data/hello_world"
   ]
  },
  {
   "cell_type": "markdown",
   "metadata": {},
   "source": [
    "\n",
    "This function prints a message whenever it executes. Now, if we try to run it again, it will actually not run, because the code has not changed."
   ]
  },
  {
   "cell_type": "code",
   "execution_count": 5,
   "metadata": {
    "execution": {
     "iopub.execute_input": "2020-12-05T14:06:30.607547Z",
     "iopub.status.busy": "2020-12-05T14:06:30.607070Z",
     "iopub.status.idle": "2020-12-05T14:06:30.658094Z",
     "shell.execute_reply": "2020-12-05T14:06:30.658574Z"
    }
   },
   "outputs": [
    {
     "data": {
      "text/plain": [
       "'Hello, world'"
      ]
     },
     "execution_count": 5,
     "metadata": {},
     "output_type": "execute_result"
    }
   ],
   "source": [
    "hello_world()"
   ]
  },
  {
   "cell_type": "markdown",
   "metadata": {},
   "source": [
    "In fact, because `dds` looks at the source code, if you redefine the function with the same content, it still does not recompute:"
   ]
  },
  {
   "cell_type": "code",
   "execution_count": 6,
   "metadata": {
    "execution": {
     "iopub.execute_input": "2020-12-05T14:06:30.666678Z",
     "iopub.status.busy": "2020-12-05T14:06:30.665670Z",
     "iopub.status.idle": "2020-12-05T14:06:30.693166Z",
     "shell.execute_reply": "2020-12-05T14:06:30.692795Z"
    }
   },
   "outputs": [
    {
     "data": {
      "text/plain": [
       "'Hello, world'"
      ]
     },
     "execution_count": 6,
     "metadata": {},
     "output_type": "execute_result"
    }
   ],
   "source": [
    "@dds.dds_function(\"/hello_world\")\n",
    "def hello_world():\n",
    "    print(\"hello_world() has been called\")\n",
    "    return \"Hello, world\"\n",
    "\n",
    "hello_world()"
   ]
  },
  {
   "cell_type": "markdown",
   "metadata": {},
   "source": [
    "Functions can include arbitrary dependencies, as shown with this example. The function `f` has a dependency on an extra variable:\n",
    "\n"
   ]
  },
  {
   "cell_type": "code",
   "execution_count": 7,
   "metadata": {
    "execution": {
     "iopub.execute_input": "2020-12-05T14:06:30.700519Z",
     "iopub.status.busy": "2020-12-05T14:06:30.699711Z",
     "iopub.status.idle": "2020-12-05T14:06:30.729418Z",
     "shell.execute_reply": "2020-12-05T14:06:30.729773Z"
    }
   },
   "outputs": [
    {
     "name": "stdout",
     "output_type": "stream",
     "text": [
      "Calling f\n"
     ]
    },
    {
     "data": {
      "text/plain": [
       "1"
      ]
     },
     "execution_count": 7,
     "metadata": {},
     "output_type": "execute_result"
    }
   ],
   "source": [
    "my_var = 1\n",
    "\n",
    "@dds.dds_function(\"/f\")\n",
    "def f():\n",
    "    print(\"Calling f\")\n",
    "    return my_var\n",
    "\n",
    "f()"
   ]
  },
  {
   "cell_type": "markdown",
   "metadata": {},
   "source": [
    "If we call the function again, as seen before, the function does not get called again:"
   ]
  },
  {
   "cell_type": "code",
   "execution_count": 8,
   "metadata": {
    "execution": {
     "iopub.execute_input": "2020-12-05T14:06:30.739381Z",
     "iopub.status.busy": "2020-12-05T14:06:30.738286Z",
     "iopub.status.idle": "2020-12-05T14:06:30.771995Z",
     "shell.execute_reply": "2020-12-05T14:06:30.771507Z"
    }
   },
   "outputs": [
    {
     "data": {
      "text/plain": [
       "1"
      ]
     },
     "execution_count": 8,
     "metadata": {},
     "output_type": "execute_result"
    }
   ],
   "source": [
    "f()"
   ]
  },
  {
   "cell_type": "markdown",
   "metadata": {},
   "source": [
    "However, if we change any dependency of the function, such as `my_var`, then the function will get evaluated again:"
   ]
  },
  {
   "cell_type": "code",
   "execution_count": 9,
   "metadata": {
    "execution": {
     "iopub.execute_input": "2020-12-05T14:06:30.782868Z",
     "iopub.status.busy": "2020-12-05T14:06:30.776163Z",
     "iopub.status.idle": "2020-12-05T14:06:30.819044Z",
     "shell.execute_reply": "2020-12-05T14:06:30.819630Z"
    }
   },
   "outputs": [
    {
     "name": "stdout",
     "output_type": "stream",
     "text": [
      "Calling f\n"
     ]
    },
    {
     "data": {
      "text/plain": [
       "2"
      ]
     },
     "execution_count": 9,
     "metadata": {},
     "output_type": "execute_result"
    }
   ],
   "source": [
    "my_var = 2\n",
    "f()"
   ]
  },
  {
   "cell_type": "markdown",
   "metadata": {},
   "source": [
    "Interestingly, if we change the variable again to its previous value, the function does not get evaluated again! The signature of the function will match a signature that was calculated before, hence there is no need to recompute it."
   ]
  },
  {
   "cell_type": "code",
   "execution_count": 10,
   "metadata": {
    "execution": {
     "iopub.execute_input": "2020-12-05T14:06:30.830594Z",
     "iopub.status.busy": "2020-12-05T14:06:30.828888Z",
     "iopub.status.idle": "2020-12-05T14:06:30.862714Z",
     "shell.execute_reply": "2020-12-05T14:06:30.863391Z"
    },
    "scrolled": false
   },
   "outputs": [
    {
     "data": {
      "text/plain": [
       "1"
      ]
     },
     "execution_count": 10,
     "metadata": {},
     "output_type": "execute_result"
    }
   ],
   "source": [
    "my_var = 1\n",
    "f()"
   ]
  },
  {
   "cell_type": "markdown",
   "metadata": {},
   "source": [
    "This mechanism covers all the basic structures in python (functions, dictionaries, lists, basic types, ...).\n",
    "\n",
    "A function that is annotated with a `dds` annotation is called a _data function_. It is a function that not only a name in code but also a data path associated with it, and for which the output is captured and stored in a data system.\n",
    "\n",
    "As we said, the `dds_function` annotation requires little code change but only works for functions that do not have arguments. How to deal with more complicated functions?\n",
    "This is the object of the next section.\n",
    "\n",
    "## Functions with arguments: keep() and eval()\n",
    "\n",
    "`dds` can also wrap functions that have arguments using the `dds.keep()` function. Here is a simple example, in which the `hello` function expects an extra word to be provided:"
   ]
  },
  {
   "cell_type": "code",
   "execution_count": 11,
   "metadata": {},
   "outputs": [
    {
     "name": "stdout",
     "output_type": "stream",
     "text": [
      "Calling function hello on world\n"
     ]
    },
    {
     "data": {
      "text/plain": [
       "'Hello, world'"
      ]
     },
     "execution_count": 11,
     "metadata": {},
     "output_type": "execute_result"
    }
   ],
   "source": [
    "def hello(name):\n",
    "    print(f\"Calling function hello on {name}\")\n",
    "    return f\"Hello, {name}\"\n",
    "\n",
    "greeting = hello(\"world\")\n",
    "greeting"
   ]
  },
  {
   "cell_type": "markdown",
   "metadata": {},
   "source": [
    "In order to capture a specific call to this function with `dds`, the function call has to be wrapped with the `dds.keep` function:"
   ]
  },
  {
   "cell_type": "code",
   "execution_count": 12,
   "metadata": {
    "scrolled": false
   },
   "outputs": [
    {
     "name": "stdout",
     "output_type": "stream",
     "text": [
      "Calling function hello on world\n"
     ]
    },
    {
     "data": {
      "text/plain": [
       "'Hello, world'"
      ]
     },
     "execution_count": 12,
     "metadata": {},
     "output_type": "execute_result"
    }
   ],
   "source": [
    "greeting = dds.keep(\"/greeting\", hello, \"world\")\n",
    "greeting"
   ]
  },
  {
   "cell_type": "markdown",
   "metadata": {},
   "source": [
    "Again, try to change the argument of the function to see when it calls the function. This substitution can be done everywhere the function `hello(world)` was called. It can also be wrapped in a separate function instead of `hello`. This is in fact how the decorator `dds_function` works.\n",
    "\n",
    "This constructs works well if the arguments can be summarized to a signature. It will fail for complex objects such as files, because `dds` needs to understand basic information about the input of a function to decide if it has changed or not. As an example:"
   ]
  },
  {
   "cell_type": "code",
   "execution_count": 13,
   "metadata": {},
   "outputs": [
    {
     "name": "stdout",
     "output_type": "stream",
     "text": [
      "Calling hello_from_file\n"
     ]
    },
    {
     "data": {
      "text/plain": [
       "'Hello, world'"
      ]
     },
     "execution_count": 13,
     "metadata": {},
     "output_type": "execute_result"
    }
   ],
   "source": [
    "def hello_from_file(file):\n",
    "    name = file.readline().strip()\n",
    "    print(\"Calling hello_from_file\")\n",
    "    return f\"Hello, {name}\"\n",
    "\n",
    "f = open(\"input.txt\", \"r\")\n",
    "hello_from_file(f)"
   ]
  },
  {
   "cell_type": "code",
   "execution_count": 14,
   "metadata": {},
   "outputs": [],
   "source": [
    "# This line will trigger a NotImplementedError\n",
    "# dds.keep(\"/greeting\", hello_from_file, open(\"input.txt\", \"r\"))"
   ]
  },
  {
   "cell_type": "markdown",
   "metadata": {},
   "source": [
    "How do we still use files? `dds` does not need to understand the content passed to a function _if_ it is called as a sub-function within `dds`. More concretely in this example, we can create a wrapper function that contains the file call and the call to the function to keep:"
   ]
  },
  {
   "cell_type": "code",
   "execution_count": 15,
   "metadata": {},
   "outputs": [
    {
     "name": "stdout",
     "output_type": "stream",
     "text": [
      "Opening file <_io.TextIOWrapper name='input.txt' mode='r' encoding='UTF-8'>\n",
      "Calling hello_from_file\n"
     ]
    },
    {
     "data": {
      "text/plain": [
       "'Hello, world'"
      ]
     },
     "execution_count": 15,
     "metadata": {},
     "output_type": "execute_result"
    }
   ],
   "source": [
    "def wrapper_hello():\n",
    "    f = open(\"input.txt\", \"r\")\n",
    "    print(f\"Opening file {f}\")\n",
    "    greeting = dds.keep(\"/greeting\", hello_from_file, f)\n",
    "    return greeting\n",
    "\n",
    "dds.eval(wrapper_hello)"
   ]
  },
  {
   "cell_type": "markdown",
   "metadata": {},
   "source": [
    "Calling the function again shows that:\n",
    "\n",
    " - we still open the file: the content of `wrapper_hello` is still executed. \n",
    " - `hello_from_file` is not called again: even if we pass a file to it, all the source code to provide the arguments is the same, the function `hello_from_file` is the same, hence `dds` assumes that the resulting `greeting` is going to be the same.\n",
    "\n",
    "As a result, `wrapper_hello` is run (it is just `eval`uated), but all the sub-calls to data functions are going to be cached."
   ]
  },
  {
   "cell_type": "code",
   "execution_count": 16,
   "metadata": {},
   "outputs": [
    {
     "name": "stdout",
     "output_type": "stream",
     "text": [
      "Opening file <_io.TextIOWrapper name='input.txt' mode='r' encoding='UTF-8'>\n"
     ]
    },
    {
     "data": {
      "text/plain": [
       "'Hello, world'"
      ]
     },
     "execution_count": 16,
     "metadata": {},
     "output_type": "execute_result"
    }
   ],
   "source": [
    "dds.eval(wrapper_hello)"
   ]
  },
  {
   "cell_type": "markdown",
   "metadata": {},
   "source": [
    "As a conclusion, `dds` provides 3 basic functions to track and cache pieces of data:\n",
    "\n",
    " * `dds_function` is an annotation for functions that take no arguments and return a piece of data that should be tracked\n",
    " * `keep` is a function that wraps function calls. It can be used standalone when the function uses basic types as arguments.\n",
    " * `eval` is used in conjunction with `keep` when data functions take complex arguments.\n",
    " \n",
    "By building on these foundations, `dds` allows you to do many more things such as visualizing all the dependencies between data, speeding up Machine Learning pipelines, and parallelizing your code automatically. The other tutorials provide more information."
   ]
  }
 ],
 "metadata": {
  "celltoolbar": "Tags",
  "kernelspec": {
   "display_name": "Python 3",
   "language": "python",
   "name": "python3"
  },
  "language_info": {
   "codemirror_mode": {
    "name": "ipython",
    "version": 3
   },
   "file_extension": ".py",
   "mimetype": "text/x-python",
   "name": "python",
   "nbconvert_exporter": "python",
   "pygments_lexer": "ipython3",
   "version": "3.8.5"
  }
 },
 "nbformat": 4,
 "nbformat_minor": 4
}
