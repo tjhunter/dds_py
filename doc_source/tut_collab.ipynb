{
 "cells": [
  {
   "cell_type": "markdown",
   "metadata": {},
   "source": [
    "# Using dds to collaborate between data branches\n",
    "\n",
    "`dds` can be used within a team to collaborate on data, just like one would collaborate on source code. This tutorial shows how two people, Alice and Bob, can work on the same code base and checkout each other's versions of their data.\n",
    "\n",
    "Let us start with a data function written in the `main`branch."
   ]
  },
  {
   "cell_type": "code",
   "execution_count": 1,
   "metadata": {},
   "outputs": [],
   "source": [
    "! rm -rf /tmp/dds/tut_collab"
   ]
  },
  {
   "cell_type": "code",
   "execution_count": 2,
   "metadata": {},
   "outputs": [],
   "source": [
    "import dds\n",
    "\n",
    "def store_main():\n",
    "    dds.set_store(\"local\", data_dir=\"/tmp/dds/tut_collab/data_main\", internal_dir=\"/tmp/dds/tut_collab/internal\")\n",
    "\n",
    "def store_fork():\n",
    "    dds.set_store(\"local\", data_dir=\"/tmp/dds/tut_collab/data_fork\", internal_dir=\"/tmp/dds/tut_collab/internal\")\n",
    "\n",
    "store_main()"
   ]
  },
  {
   "cell_type": "code",
   "execution_count": 3,
   "metadata": {},
   "outputs": [
    {
     "name": "stdout",
     "output_type": "stream",
     "text": [
      "calculating my_data\n"
     ]
    },
    {
     "data": {
      "text/plain": [
       "'Alice'"
      ]
     },
     "execution_count": 3,
     "metadata": {},
     "output_type": "execute_result"
    }
   ],
   "source": [
    "# main branch\n",
    "@dds.data_function(\"/my_data\")\n",
    "def my_data():\n",
    "    print(\"calculating my_data\")\n",
    "    return \"Alice\"\n",
    "\n",
    "my_data()"
   ]
  },
  {
   "cell_type": "markdown",
   "metadata": {},
   "source": [
    "Bob branches the code in his fork. So far, there is no change. When evaluating the data functions, he gets the same content"
   ]
  },
  {
   "cell_type": "code",
   "execution_count": 4,
   "metadata": {},
   "outputs": [],
   "source": [
    "store_fork()"
   ]
  },
  {
   "cell_type": "code",
   "execution_count": 5,
   "metadata": {},
   "outputs": [
    {
     "data": {
      "text/plain": [
       "'Alice'"
      ]
     },
     "execution_count": 5,
     "metadata": {},
     "output_type": "execute_result"
    }
   ],
   "source": [
    "# fork branch\n",
    "\n",
    "my_data()"
   ]
  },
  {
   "cell_type": "markdown",
   "metadata": {},
   "source": [
    "Now, Bob is going to change the content of the branch and update the code."
   ]
  },
  {
   "cell_type": "code",
   "execution_count": 6,
   "metadata": {},
   "outputs": [
    {
     "name": "stdout",
     "output_type": "stream",
     "text": [
      "calculating my_data\n"
     ]
    },
    {
     "data": {
      "text/plain": [
       "'Alice, Bob'"
      ]
     },
     "execution_count": 6,
     "metadata": {},
     "output_type": "execute_result"
    }
   ],
   "source": [
    "# fork branch\n",
    "\n",
    "@dds.data_function(\"/my_data\")\n",
    "def my_data():\n",
    "    print(\"calculating my_data\")\n",
    "    return \"Alice, Bob\"\n",
    "\n",
    "my_data()"
   ]
  },
  {
   "cell_type": "markdown",
   "metadata": {},
   "source": [
    "Let's look at the content: the store has two blobs, one for each of the data functions:"
   ]
  },
  {
   "cell_type": "code",
   "execution_count": 7,
   "metadata": {},
   "outputs": [
    {
     "name": "stdout",
     "output_type": "stream",
     "text": [
      "728433a6899b293d14157e4a321431a59a66f85109086851f58bcd53ba984c8b\r\n",
      "ecf06a7b7943cda9620d652393d2067887ce53c816ea7f0a08de94bee2fa0290\r\n"
     ]
    }
   ],
   "source": [
    "! ls /tmp/dds/tut_collab/internal/blobs | grep -v meta"
   ]
  },
  {
   "cell_type": "markdown",
   "metadata": {},
   "source": [
    "In the view of Alice using the `main` branch, the data points still to the 'Alice' dataset:"
   ]
  },
  {
   "cell_type": "code",
   "execution_count": 8,
   "metadata": {},
   "outputs": [
    {
     "name": "stdout",
     "output_type": "stream",
     "text": [
      "Alice"
     ]
    }
   ],
   "source": [
    "! cat /tmp/dds/tut_collab/data_main/my_data"
   ]
  },
  {
   "cell_type": "markdown",
   "metadata": {},
   "source": [
    "And in the view of Bob, working in the `fork` branch, the data is updated:"
   ]
  },
  {
   "cell_type": "code",
   "execution_count": 9,
   "metadata": {},
   "outputs": [
    {
     "name": "stdout",
     "output_type": "stream",
     "text": [
      "Alice, Bob"
     ]
    }
   ],
   "source": [
    "! cat /tmp/dds/tut_collab/data_fork/my_data"
   ]
  },
  {
   "cell_type": "markdown",
   "metadata": {},
   "source": [
    "Now, we assume that the change of Bob has been merged back into the `main` branch. Now the code in the main branch is the one from the `fork` branch:"
   ]
  },
  {
   "cell_type": "code",
   "execution_count": 10,
   "metadata": {},
   "outputs": [],
   "source": [
    "# main branch:\n",
    "@dds.data_function(\"/my_data\")\n",
    "def my_data():\n",
    "    print(\"calculating my_data\")\n",
    "    return \"Alice, Bob\"\n"
   ]
  },
  {
   "cell_type": "markdown",
   "metadata": {},
   "source": [
    "When Alice imports the main branch and re-evaluates the code, she gets the updated version _without having to recalculate the content of the function_:"
   ]
  },
  {
   "cell_type": "code",
   "execution_count": 11,
   "metadata": {},
   "outputs": [
    {
     "data": {
      "text/plain": [
       "'Alice, Bob'"
      ]
     },
     "execution_count": 11,
     "metadata": {},
     "output_type": "execute_result"
    }
   ],
   "source": [
    "# main branch\n",
    "my_data()"
   ]
  },
  {
   "cell_type": "markdown",
   "metadata": {},
   "source": [
    "Indeed, the content of the cache was already populated when `Bob` ran its branch. Alice working from the main branch does need to re-compute anything: the merged code from Bob is the same as the one he ran from the `fork` branch, hence the stored artifacts are already there.\n",
    "\n",
    "As we see, switching between branches of data is as easy as switching between code branches. When re-evaluating the content, `dds` checks that the objects are already in the shared store. A code branch switch is just a matter of updating file links to existing objects.\n",
    "\n",
    "How does this work with storage systems that do not support linking, such as the Databricks(R) File System (DBFS) or S3 for example? In this case, there are two possibilities:\n",
    "- if the data is only to be used within `dds`, then the respective stores offer a way to just store links. Switching between branches is very fast, but other systems cannot read the content of the files without changes\n",
    "- is the data is mant to be shared outside of `dds`, then the stores will copy the content of the blob to the final destination. Depending on the size and the number of objects to copy, this may be significant.\n"
   ]
  },
  {
   "cell_type": "markdown",
   "metadata": {},
   "source": [
    "To conclude, `dds`'s philosophy of _data is code_ makes it easy to share and update data in a collaborative environment:\n",
    "* data is tracked in each branch\n",
    "* switching between code branches to retrieve code and views of the corresponding data\n",
    "* all the data can be pre-calculated before merging the code, making a code+data checkout always a fast operation for the target branch"
   ]
  },
  {
   "cell_type": "code",
   "execution_count": 13,
   "metadata": {},
   "outputs": [
    {
     "name": "stdout",
     "output_type": "stream",
     "text": [
      "728433a6899b293d14157e4a321431a59a66f85109086851f58bcd53ba984c8b\r\n",
      "ecf06a7b7943cda9620d652393d2067887ce53c816ea7f0a08de94bee2fa0290\r\n"
     ]
    }
   ],
   "source": [
    "! ls /tmp/dds/tut_collab/internal/blobs | grep -v meta"
   ]
  }
 ],
 "metadata": {
  "kernelspec": {
   "display_name": "Python 3",
   "language": "python",
   "name": "python3"
  },
  "language_info": {
   "codemirror_mode": {
    "name": "ipython",
    "version": 3
   },
   "file_extension": ".py",
   "mimetype": "text/x-python",
   "name": "python",
   "nbconvert_exporter": "python",
   "pygments_lexer": "ipython3",
   "version": "3.8.5"
  }
 },
 "nbformat": 4,
 "nbformat_minor": 4
}
