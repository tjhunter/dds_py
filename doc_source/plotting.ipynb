{
 "cells": [
  {
   "cell_type": "code",
   "execution_count": 1,
   "metadata": {
    "execution": {
     "iopub.execute_input": "2020-12-05T14:06:30.567220Z",
     "iopub.status.busy": "2020-12-05T14:06:30.565890Z",
     "iopub.status.idle": "2020-12-05T14:06:30.579032Z",
     "shell.execute_reply": "2020-12-05T14:06:30.579709Z"
    },
    "tags": [
     "hide_cell"
    ]
   },
   "outputs": [],
   "source": [
    "%%sh\n",
    "# Small cleanup for reproducibility\n",
    "rm -rf /tmp/tut_plotting/"
   ]
  },
  {
   "cell_type": "code",
   "execution_count": 2,
   "metadata": {
    "tags": [
     "hide_cell"
    ]
   },
   "outputs": [],
   "source": [
    "import dds\n",
    "dds.set_store(\"local\", internal_dir=\"/tmp/tut_plotting/dds_internal/\", data_dir=\"/tmp/tut_plotting/dds_data/\")\n",
    "# import logging\n",
    "# logging.basicConfig(\n",
    "#   format=\"%(asctime)s %(name)s %(levelname)s %(message)s\", level=logging.DEBUG\n",
    "# )"
   ]
  },
  {
   "cell_type": "markdown",
   "metadata": {},
   "source": [
    "## Plotting network dependencies with DDS\n",
    "\n",
    "`DDS` allows you to track and display the dependencies between data objects that get tracked with a name.\n",
    "\n",
    "> Reminder:\n",
    ">\n",
    "> In order to use the plotting facilities, you must have the `pydotplus` package installed, as well as its own dependency (Graphviz).\n",
    "\n",
    "\n",
    "Exporting the function graph without running the actual function is done with the `dds.eval` function:\n",
    "\n",
    "```py\n",
    "\n",
    "def my_function(arg1, arg2, ...): ...\n",
    "\n",
    "dds.eval(fun,\n",
    "         arg1,\n",
    "         arg2,\n",
    "         ...\n",
    "         dds_export_graph=\"path_to_png_file\",\n",
    "         dds_extra_debug=True,\n",
    "         dds_stages=[\"analysis\"])\n",
    "```\n",
    "\n",
    "With this call, the function will not be executed. Instead, all its code dependencies will be resolved and analyzed.\n",
    "\n",
    "Here is an example that leverages the integration with Jupyter. This shows a single function the output of which is registered\n",
    "under the path `/f`."
   ]
  },
  {
   "cell_type": "code",
   "execution_count": 3,
   "metadata": {
    "execution": {
     "iopub.execute_input": "2020-12-05T14:06:30.589409Z",
     "iopub.status.busy": "2020-12-05T14:06:30.588156Z",
     "iopub.status.idle": "2020-12-05T14:06:30.601005Z",
     "shell.execute_reply": "2020-12-05T14:06:30.601367Z"
    }
   },
   "outputs": [
    {
     "data": {
      "image/png": "[encoded data removed]",
      "text/plain": [
       "<IPython.core.display.Image object>"
      ]
     },
     "execution_count": 3,
     "metadata": {},
     "output_type": "execute_result"
    }
   ],
   "source": [
    "import dds\n",
    "from IPython.display import Image\n",
    "\n",
    "# A small utility to plot a function without executing it:\n",
    "def plot_function(fun) -> Image:\n",
    "    f_name = f\"/tmp/tut_plotting/dds_plot_{str(id(fun))}.png\"\n",
    "    dds.eval(fun, dds_export_graph=f_name, dds_extra_debug=True, dds_stages=[\"analysis\"])\n",
    "    return Image(f_name)\n",
    "\n",
    "@dds.data_function(\"/f\")\n",
    "def f(): return 1\n",
    "\n",
    "plot_function(f)"
   ]
  },
  {
   "cell_type": "markdown",
   "metadata": {},
   "source": [
    "How to show multiple independent functions? Multiple DDS functions can be packaged under a single function.\n",
    "In most cases, DDS can infer that they are independent of each other and will show them \n",
    "separately. Here is the examle of two independent functions `f1` and `f2`:"
   ]
  },
  {
   "cell_type": "code",
   "execution_count": 4,
   "metadata": {
    "execution": {
     "iopub.execute_input": "2020-12-05T14:06:30.607547Z",
     "iopub.status.busy": "2020-12-05T14:06:30.607070Z",
     "iopub.status.idle": "2020-12-05T14:06:30.658094Z",
     "shell.execute_reply": "2020-12-05T14:06:30.658574Z"
    }
   },
   "outputs": [
    {
     "data": {
      "image/png": "[encoded data removed]",
      "text/plain": [
       "<IPython.core.display.Image object>"
      ]
     },
     "execution_count": 4,
     "metadata": {},
     "output_type": "execute_result"
    }
   ],
   "source": [
    "@dds.data_function(\"/f1\")\n",
    "def ex1a(): return 1\n",
    "\n",
    "@dds.data_function(\"/f2\")\n",
    "def ex1b(): return 2\n",
    "\n",
    "def ex1():\n",
    "    ex1a()\n",
    "    ex1b()\n",
    "\n",
    "plot_function(ex1)"
   ]
  },
  {
   "cell_type": "markdown",
   "metadata": {},
   "source": [
    "**Data dependencies**\n",
    "\n",
    "The DDS function `f1` depends on the DDS function `f2`. This is tracked with a solid line. The graph shows the outputs first at the top, and the dependencies at the bottom."
   ]
  },
  {
   "cell_type": "code",
   "execution_count": 5,
   "metadata": {
    "execution": {
     "iopub.execute_input": "2020-12-05T14:06:30.666678Z",
     "iopub.status.busy": "2020-12-05T14:06:30.665670Z",
     "iopub.status.idle": "2020-12-05T14:06:30.693166Z",
     "shell.execute_reply": "2020-12-05T14:06:30.692795Z"
    }
   },
   "outputs": [
    {
     "data": {
      "image/png": "[encoded data removed]",
      "text/plain": [
       "<IPython.core.display.Image object>"
      ]
     },
     "execution_count": 5,
     "metadata": {},
     "output_type": "execute_result"
    }
   ],
   "source": [
    "@dds.data_function(\"/f1\")\n",
    "def ex2a(i): return 2 + i\n",
    "\n",
    "@dds.data_function(\"/f2\")\n",
    "def ex2b(): return 2 + ex2a(1)\n",
    "\n",
    "def ex2():\n",
    "    ex2b()\n",
    "\n",
    "plot_function(ex2)"
   ]
  },
  {
   "cell_type": "markdown",
   "metadata": {},
   "source": [
    "**Implicit dependencies**\n",
    "\n",
    "In the function `f`, the output of the DDS function `f1` is passed as an argument to the DDS function `f2`. This is a case of implicit dependency: DDS has infered that the calculation of `f2` is dependent on the calculation of `f1` (through potentially other steps in the function `f`). It indicates that through dashed arrows."
   ]
  },
  {
   "cell_type": "code",
   "execution_count": 6,
   "metadata": {
    "execution": {
     "iopub.execute_input": "2020-12-05T14:06:30.700519Z",
     "iopub.status.busy": "2020-12-05T14:06:30.699711Z",
     "iopub.status.idle": "2020-12-05T14:06:30.729418Z",
     "shell.execute_reply": "2020-12-05T14:06:30.729773Z"
    }
   },
   "outputs": [
    {
     "data": {
      "image/png": "[encoded data removed]",
      "text/plain": [
       "<IPython.core.display.Image object>"
      ]
     },
     "execution_count": 6,
     "metadata": {},
     "output_type": "execute_result"
    }
   ],
   "source": [
    "@dds.data_function(\"/f1\")\n",
    "def f1(): return 2\n",
    "\n",
    "@dds.data_function(\"/f2\")\n",
    "def f2(i): return 2 + i\n",
    "\n",
    "def f():\n",
    "    res1 = f1()\n",
    "    my_var = res1 * 2\n",
    "    f2(my_var)\n",
    "\n",
    "plot_function(f)"
   ]
  },
  {
   "cell_type": "markdown",
   "metadata": {},
   "source": [
    "Note that only the most significant dependencies are represented. In this case, `f1` is evaluated twice: before and after `f2`. Because `f2` implicitly depends on `f1` but not the opposite, only the first call to `f1` is taken into account."
   ]
  },
  {
   "cell_type": "code",
   "execution_count": 7,
   "metadata": {
    "execution": {
     "iopub.execute_input": "2020-12-05T14:06:30.739381Z",
     "iopub.status.busy": "2020-12-05T14:06:30.738286Z",
     "iopub.status.idle": "2020-12-05T14:06:30.771995Z",
     "shell.execute_reply": "2020-12-05T14:06:30.771507Z"
    }
   },
   "outputs": [
    {
     "data": {
      "image/png": "[encoded data removed]",
      "text/plain": [
       "<IPython.core.display.Image object>"
      ]
     },
     "execution_count": 7,
     "metadata": {},
     "output_type": "execute_result"
    }
   ],
   "source": [
    "@dds.data_function(\"/f1\")\n",
    "def ex4a(): return 2\n",
    "\n",
    "@dds.data_function(\"/f2\")\n",
    "def ex4b(i): return 2 + i\n",
    "\n",
    "def ex4():\n",
    "    res1 = ex4a()\n",
    "    ex4b(res1)\n",
    "    ex4a()\n",
    "\n",
    "plot_function(ex4)"
   ]
  },
  {
   "cell_type": "markdown",
   "metadata": {},
   "source": [
    "The functions call can be arbitrarily nested. In this case, because `f1` is already a dependency of `f3`, it is not brought further even if it is called in `f`."
   ]
  },
  {
   "cell_type": "code",
   "execution_count": 8,
   "metadata": {
    "execution": {
     "iopub.execute_input": "2020-12-05T14:06:30.782868Z",
     "iopub.status.busy": "2020-12-05T14:06:30.776163Z",
     "iopub.status.idle": "2020-12-05T14:06:30.819044Z",
     "shell.execute_reply": "2020-12-05T14:06:30.819630Z"
    }
   },
   "outputs": [
    {
     "data": {
      "image/png": "[encoded data removed]",
      "text/plain": [
       "<IPython.core.display.Image object>"
      ]
     },
     "execution_count": 8,
     "metadata": {},
     "output_type": "execute_result"
    }
   ],
   "source": [
    "@dds.data_function(\"/f1\")\n",
    "def f1(): return 2 \n",
    "\n",
    "@dds.data_function(\"/f2\")\n",
    "def f2(): return 2 + f1()\n",
    "\n",
    "@dds.data_function(\"/f3\")\n",
    "def f3(i): return 1 + f2()\n",
    "\n",
    "@dds.data_function(\"/f4\")\n",
    "def f4(): return 1\n",
    "\n",
    "\n",
    "def f():\n",
    "    x = f4()\n",
    "    f3(x)\n",
    "    f1()\n",
    "\n",
    "plot_function(f)"
   ]
  },
  {
   "cell_type": "markdown",
   "metadata": {},
   "source": [
    "Note that in general when the functions take arguments, DDS cannot infer independencies. In this case, `f3` and `f5` could be independent. However, because they share an argument call through `x`, this argument could be modified during the call and as such, no further independence can be assumed."
   ]
  },
  {
   "cell_type": "code",
   "execution_count": 9,
   "metadata": {
    "execution": {
     "iopub.execute_input": "2020-12-05T14:06:30.830594Z",
     "iopub.status.busy": "2020-12-05T14:06:30.828888Z",
     "iopub.status.idle": "2020-12-05T14:06:30.862714Z",
     "shell.execute_reply": "2020-12-05T14:06:30.863391Z"
    }
   },
   "outputs": [
    {
     "data": {
      "image/png": "[encoded data removed]",
      "text/plain": [
       "<IPython.core.display.Image object>"
      ]
     },
     "execution_count": 9,
     "metadata": {},
     "output_type": "execute_result"
    }
   ],
   "source": [
    "@dds.data_function(\"/f5\")\n",
    "def f5(i): return 1 + i\n",
    "\n",
    "def f():\n",
    "    f1()\n",
    "    x = f4()\n",
    "    f3(x)\n",
    "    f5(x)\n",
    "    f1()\n",
    "\n",
    "plot_function(f)"
   ]
  },
  {
   "cell_type": "markdown",
   "metadata": {},
   "source": [
    "## Indirect references\n",
    "\n",
    "Indirect references (the `load` function) refers directly to the content without having to call the function itself.\n",
    "\n",
    "This is plotted as usual. Note that the link is in dashed lines, indicating that the call is not direct."
   ]
  },
  {
   "cell_type": "code",
   "execution_count": 10,
   "metadata": {},
   "outputs": [
    {
     "data": {
      "image/png": "[encoded data removed]",
      "text/plain": [
       "<IPython.core.display.Image object>"
      ]
     },
     "execution_count": 10,
     "metadata": {},
     "output_type": "execute_result"
    }
   ],
   "source": [
    "# Ensure that the path exists\n",
    "f1()\n",
    "\n",
    "@dds.data_function(\"/f6\")\n",
    "def f6():\n",
    "    return dds.load(\"/f1\")\n",
    "\n",
    "plot_function(f6)"
   ]
  },
  {
   "cell_type": "markdown",
   "metadata": {},
   "source": [
    "Here is a final example that combines all the dependencies.\n",
    "\n",
    "Note that `dds` does not automatically sort the ordering for you. When a single function call both calls a path through its function definition and through an indirect reference, the indirect reference must happen _after_ the call to the direct function. In the example of the function `f` below, the call to `f6` must happen _after_ calling `f2` or `f3`. Otherwise, `f6` depends on `f1`, but `f1` will be calculated in the _future_. `dds` prevents such circular dependencies."
   ]
  },
  {
   "cell_type": "code",
   "execution_count": 15,
   "metadata": {},
   "outputs": [
    {
     "data": {
      "image/png": "[encoded data removed]",
      "text/plain": [
       "<IPython.core.display.Image object>"
      ]
     },
     "execution_count": 15,
     "metadata": {},
     "output_type": "execute_result"
    }
   ],
   "source": [
    "def f():\n",
    "    x = f4()\n",
    "    f3(x)\n",
    "    f5(x)\n",
    "    f6()\n",
    "\n",
    "plot_function(f)"
   ]
  }
 ],
 "metadata": {
  "celltoolbar": "Tags",
  "kernelspec": {
   "display_name": "Python 3",
   "language": "python",
   "name": "python3"
  },
  "language_info": {
   "codemirror_mode": {
    "name": "ipython",
    "version": 3
   },
   "file_extension": ".py",
   "mimetype": "text/x-python",
   "name": "python",
   "nbconvert_exporter": "python",
   "pygments_lexer": "ipython3",
   "version": "3.8.5"
  }
 },
 "nbformat": 4,
 "nbformat_minor": 4
}
