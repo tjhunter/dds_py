{
 "cells": [
  {
   "cell_type": "markdown",
   "metadata": {},
   "source": [
    "This tutorial is an adaptation of the Machine Learning tutorial from Elite Data Science. The original tutorial is here:\n",
    "\n",
    "https://elitedatascience.com/python-machine-learning-tutorial-scikit-learn\n",
    "\n",
    "Let us start with a few imports"
   ]
  },
  {
   "cell_type": "code",
   "execution_count": null,
   "metadata": {
    "execution": {
     "iopub.execute_input": "2020-12-05T14:10:52.931951Z",
     "iopub.status.busy": "2020-12-05T14:10:52.931119Z",
     "iopub.status.idle": "2020-12-05T14:10:53.693495Z",
     "shell.execute_reply": "2020-12-05T14:10:53.693859Z"
    }
   },
   "outputs": [],
   "source": [
    "import sklearn\n",
    "import pandas as pd\n",
    "import numpy as np\n",
    " \n",
    "from sklearn.model_selection import train_test_split\n",
    "from sklearn import preprocessing\n",
    "from sklearn.ensemble import RandomForestRegressor\n",
    "from sklearn.pipeline import make_pipeline\n",
    "from sklearn.model_selection import GridSearchCV\n",
    "from sklearn.metrics import mean_squared_error, r2_score\n",
    "import requests\n",
    "import io\n",
    "import json"
   ]
  },
  {
   "cell_type": "markdown",
   "metadata": {},
   "source": [
    "We now add the import to the `dds` package. By default, the data will be stored in the temporary directory"
   ]
  },
  {
   "cell_type": "code",
   "execution_count": null,
   "metadata": {
    "execution": {
     "iopub.execute_input": "2020-12-05T14:10:53.696804Z",
     "iopub.status.busy": "2020-12-05T14:10:53.696323Z",
     "iopub.status.idle": "2020-12-05T14:10:53.707058Z",
     "shell.execute_reply": "2020-12-05T14:10:53.706681Z"
    }
   },
   "outputs": [],
   "source": [
    "import dds"
   ]
  },
  {
   "cell_type": "markdown",
   "metadata": {},
   "source": [
    "The two internal directories (data and internal) are now there"
   ]
  },
  {
   "cell_type": "markdown",
   "metadata": {},
   "source": [
    "Let's start with a familiar problem of accessing data from the internet. This piece of code will download a dataset, but with the additional twist that the dataset will be cached onto the local machine."
   ]
  },
  {
   "cell_type": "code",
   "execution_count": null,
   "metadata": {
    "execution": {
     "iopub.execute_input": "2020-12-05T14:10:53.730594Z",
     "iopub.status.busy": "2020-12-05T14:10:53.729904Z",
     "iopub.status.idle": "2020-12-05T14:10:53.732431Z",
     "shell.execute_reply": "2020-12-05T14:10:53.732011Z"
    }
   },
   "outputs": [],
   "source": [
    "path_model = \"/wine-quality/my_model\"\n",
    "path_model_stats = \"/wine-quality/my_model_stats.json\"\n",
    "\n",
    "@dds.data_function(\"/wine-quality/raw\")\n",
    "def data():\n",
    "    print(\"*** in _load_data ***\")\n",
    "    url = \"https://raw.githubusercontent.com/zygmuntz/wine-quality/master/winequality/winequality-red.csv\"\n",
    "    x = requests.get(url=url, verify=False).content \n",
    "    return pd.read_csv(io.StringIO(x.decode('utf8')), sep=\";\")\n"
   ]
  },
  {
   "cell_type": "code",
   "execution_count": null,
   "metadata": {
    "execution": {
     "iopub.execute_input": "2020-12-05T14:10:53.736737Z",
     "iopub.status.busy": "2020-12-05T14:10:53.736259Z",
     "iopub.status.idle": "2020-12-05T14:10:53.796371Z",
     "shell.execute_reply": "2020-12-05T14:10:53.795953Z"
    }
   },
   "outputs": [],
   "source": [
    "dds.eval(data, dds_export_graph=\"/tmp/2.png\", dds_extra_debug=True, dds_stages=[\"analysis\"])\n",
    "from IPython.display import Image\n",
    "Image(\"/tmp/2.png\")"
   ]
  },
  {
   "cell_type": "code",
   "execution_count": null,
   "metadata": {
    "execution": {
     "iopub.execute_input": "2020-12-05T14:10:53.800092Z",
     "iopub.status.busy": "2020-12-05T14:10:53.799547Z",
     "iopub.status.idle": "2020-12-05T14:10:54.037559Z",
     "shell.execute_reply": "2020-12-05T14:10:54.037909Z"
    }
   },
   "outputs": [],
   "source": [
    "data().head(3)"
   ]
  },
  {
   "cell_type": "code",
   "execution_count": null,
   "metadata": {
    "execution": {
     "iopub.execute_input": "2020-12-05T14:10:54.044217Z",
     "iopub.status.busy": "2020-12-05T14:10:54.043643Z",
     "iopub.status.idle": "2020-12-05T14:10:54.045600Z",
     "shell.execute_reply": "2020-12-05T14:10:54.045962Z"
    }
   },
   "outputs": [],
   "source": [
    "def build_model(X_train, y_train):\n",
    "    print(\"*** in build_model ***\")\n",
    "    pipeline = make_pipeline(preprocessing.StandardScaler(), \n",
    "                             RandomForestRegressor(n_estimators=100))\n",
    "    hyperparameters = { 'randomforestregressor__max_features' : ['auto', 'sqrt', 'log2'],\n",
    "                      'randomforestregressor__max_depth': [None, 5, 3, 1]}\n",
    "\n",
    "    clf = GridSearchCV(pipeline, hyperparameters, cv=10)\n",
    "    \n",
    "    clf.fit(X_train, y_train)\n",
    "    return clf\n",
    " \n",
    "    \n",
    "def model_stats(clf, X_test, y_test) -> str:\n",
    "    print(\"*** in model_stats ***\")\n",
    "    pred = clf.predict(X_test)\n",
    "    return json.dumps({\n",
    "#         \"r2_score\": r2_score(y_test, pred),\n",
    "        \"mse\": mean_squared_error(y_test, pred)\n",
    "    })\n",
    "    \n",
    "    \n",
    "def pipeline():\n",
    "    wine_data = data()\n",
    "    y = wine_data.quality\n",
    "    X = wine_data.drop('quality', axis=1)\n",
    "    X_train, X_test, y_train, y_test = train_test_split(X, y, \n",
    "                                                        test_size=0.15, \n",
    "                                                        random_state=123, \n",
    "                                                        stratify=y)\n",
    "    clf = dds.keep(path_model, build_model, X_train, y_train)\n",
    "    dds.keep(path_model_stats, model_stats, clf, X_test, y_test)\n",
    "    print(\"*** done ***\")\n",
    "\n",
    "\n",
    "# dds.eval(pipeline, dds_export_graph=\"1.png\")\n"
   ]
  },
  {
   "cell_type": "code",
   "execution_count": null,
   "metadata": {
    "execution": {
     "iopub.execute_input": "2020-12-05T14:10:54.049254Z",
     "iopub.status.busy": "2020-12-05T14:10:54.048721Z",
     "iopub.status.idle": "2020-12-05T14:10:54.058804Z",
     "shell.execute_reply": "2020-12-05T14:10:54.058342Z"
    }
   },
   "outputs": [],
   "source": [
    "%%sh\n",
    "# cat /tmp/data/wine-quality/my_model_stats.json"
   ]
  },
  {
   "cell_type": "code",
   "execution_count": null,
   "metadata": {
    "execution": {
     "iopub.execute_input": "2020-12-05T14:10:54.064153Z",
     "iopub.status.busy": "2020-12-05T14:10:54.063688Z",
     "iopub.status.idle": "2020-12-05T14:10:54.105947Z",
     "shell.execute_reply": "2020-12-05T14:10:54.106309Z"
    }
   },
   "outputs": [],
   "source": [
    "\n",
    "@dds.data_function(\"/p1\")\n",
    "def f1(): return 2 \n",
    "\n",
    "@dds.data_function(\"/p2\")\n",
    "def f2(): return 2 + f1()\n",
    "\n",
    "@dds.data_function(\"/p3\")\n",
    "def f3(): return 1 + f1() + f2()\n",
    "\n",
    "@dds.data_function(\"/p4\")\n",
    "def f4(): return 1\n",
    "\n",
    "\n",
    "def f():\n",
    "    f4()\n",
    "    f3()\n",
    "\n",
    "dds.eval(f, dds_export_graph=\"/tmp/2.png\", dds_extra_debug=True, dds_stages=[\"analysis\"])\n",
    "from IPython.display import Image\n",
    "Image(\"/tmp/2.png\")"
   ]
  },
  {
   "cell_type": "code",
   "execution_count": null,
   "metadata": {
    "execution": {
     "iopub.execute_input": "2020-12-05T14:10:54.112598Z",
     "iopub.status.busy": "2020-12-05T14:10:54.111552Z",
     "iopub.status.idle": "2020-12-05T14:10:54.116781Z",
     "shell.execute_reply": "2020-12-05T14:10:54.117133Z"
    }
   },
   "outputs": [],
   "source": [
    "f()"
   ]
  },
  {
   "cell_type": "code",
   "execution_count": null,
   "metadata": {},
   "outputs": [],
   "source": []
  }
 ],
 "metadata": {
  "celltoolbar": "Metagegevens bewerken",
  "kernelspec": {
   "display_name": "Python 3",
   "language": "python",
   "name": "python3"
  },
  "language_info": {
   "codemirror_mode": {
    "name": "ipython",
    "version": 3
   },
   "file_extension": ".py",
   "mimetype": "text/x-python",
   "name": "python",
   "nbconvert_exporter": "python",
   "pygments_lexer": "ipython3",
   "version": "3.8.5"
  }
 },
 "nbformat": 4,
 "nbformat_minor": 4
}
