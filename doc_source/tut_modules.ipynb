{
 "cells": [
  {
   "cell_type": "markdown",
   "metadata": {},
   "source": [
    "## Working with modules\n",
    "\n",
    "`dds` works by tracking changes in the source code. Because a lot of the code are irrelevant to be tracked (for example, the low-level python modules to open files), `dds` makes the decision that the _user needs to indicate which code should be tracked_. This whitelisting approach allows users to track only pieces of code that matter. For example, all the logging system may not be very relevant for the outcome of the business logic.\n",
    "\n",
    "This fact is not usually important in simple cases. When working with a single notebook, or when working with a single python file, then there is nothing to do: all the functions written in a standalone python script or notebook are automatically considered. How to work with more complicated code bases, which include modules and other packages with important business logic to track? This is the topic of this tutorial.\n",
    "\n",
    "Consider the following python module `my_module`, which has one data function:"
   ]
  },
  {
   "cell_type": "code",
   "execution_count": 1,
   "metadata": {
    "tags": [
     "hide_cell"
    ]
   },
   "outputs": [],
   "source": [
    "! rm -rf /tmp/dds_tutorial/tut_modules"
   ]
  },
  {
   "cell_type": "code",
   "execution_count": 2,
   "metadata": {
    "tags": [
     "hide_cell"
    ]
   },
   "outputs": [],
   "source": [
    "import dds\n",
    "dds.set_store(\"local\", data_dir=\"/tmp/dds_tutorial/tut_modules/data\", internal_dir=\"/tmp/dds_tutorial/tut_modules/blobs\")"
   ]
  },
  {
   "cell_type": "code",
   "execution_count": 3,
   "metadata": {},
   "outputs": [
    {
     "name": "stdout",
     "output_type": "stream",
     "text": [
      "import dds\r\n",
      "\r\n",
      "\r\n",
      "@dds.data_function(\"/my_function\")\r\n",
      "def my_function():\r\n",
      "    return \"my_function\""
     ]
    }
   ],
   "source": [
    "! cat my_module.py"
   ]
  },
  {
   "cell_type": "markdown",
   "metadata": {},
   "source": [
    "Just trying to run this function is going to give an error:"
   ]
  },
  {
   "cell_type": "code",
   "execution_count": 4,
   "metadata": {},
   "outputs": [],
   "source": [
    "import my_module\n",
    "\n",
    "# This statement will fail!\n",
    "# my_module.my_function()"
   ]
  },
  {
   "cell_type": "markdown",
   "metadata": {},
   "source": [
    "Here is the error message that you would get:\n",
    "\n",
    "> Cannot load path <my_module.my_function>: this object cannot be retrieved, however the module 'my_module' exists. The typical cause of the issue is that the module my_module has not been whitelisted for use by DDS. Use the function 'dds.accept_module' to whitelist my_module or one of its submodules. dep_path: my_function module: <module 'my_module' from './dds_py/doc_source/my_module.py'>\n",
    "\n",
    "How do deal with this? The error message includes a hint to the usage of the `accept_module` function. This function instructs `dds` to consider a specific module or package for inclusion when inspecting the code. In particular, _all the data functions must be whitelisted_.\n",
    "\n",
    "Here is our previous example, fixed:"
   ]
  },
  {
   "cell_type": "code",
   "execution_count": 5,
   "metadata": {},
   "outputs": [
    {
     "data": {
      "text/plain": [
       "'my_function'"
      ]
     },
     "execution_count": 5,
     "metadata": {},
     "output_type": "execute_result"
    }
   ],
   "source": [
    "import dds\n",
    "dds.accept_module(\"my_module\")\n",
    "\n",
    "my_module.my_function()"
   ]
  },
  {
   "cell_type": "markdown",
   "metadata": {},
   "source": [
    "All sub-modules are automatically accepted. For example in our case, `my_module.sub_module` is now also accepted.\n",
    "\n",
    "Dependencies to other modules are _not_ automatically accepted, and should be also added if they are important. Consider this example with two modules: one module containing the business logic, and one module containing some utilities that we do not want to track:"
   ]
  },
  {
   "cell_type": "code",
   "execution_count": 6,
   "metadata": {},
   "outputs": [
    {
     "name": "stdout",
     "output_type": "stream",
     "text": [
      "variable = 1\r\n",
      "\r\n",
      "def get_util_variable(): return variable"
     ]
    }
   ],
   "source": [
    "! cat my_module_utils.py"
   ]
  },
  {
   "cell_type": "code",
   "execution_count": 7,
   "metadata": {},
   "outputs": [
    {
     "name": "stdout",
     "output_type": "stream",
     "text": [
      "import dds\r\n",
      "from my_module_utils import get_util_variable\r\n",
      "\r\n",
      "@dds.data_function(\"/f\")\r\n",
      "def f():\r\n",
      "    print(\"executing f\")\r\n",
      "\r\n",
      "    return get_util_variable() * 2"
     ]
    }
   ],
   "source": [
    "! cat my_module_important.py"
   ]
  },
  {
   "cell_type": "code",
   "execution_count": 8,
   "metadata": {},
   "outputs": [
    {
     "name": "stdout",
     "output_type": "stream",
     "text": [
      "executing f\n"
     ]
    },
    {
     "data": {
      "text/plain": [
       "2"
      ]
     },
     "execution_count": 8,
     "metadata": {},
     "output_type": "execute_result"
    }
   ],
   "source": [
    "dds.accept_module(\"my_module_important\")\n",
    "import my_module_important\n",
    "\n",
    "my_module_important.f()"
   ]
  },
  {
   "cell_type": "markdown",
   "metadata": {},
   "source": [
    "`my_module_utils` is not whitelisted. If we modify it, it is not going to retrigger a calculation"
   ]
  },
  {
   "cell_type": "code",
   "execution_count": 9,
   "metadata": {},
   "outputs": [
    {
     "data": {
      "text/plain": [
       "2"
      ]
     },
     "execution_count": 9,
     "metadata": {},
     "output_type": "execute_result"
    }
   ],
   "source": [
    "import my_module_utils\n",
    "my_module_utils.variable = 2\n",
    "\n",
    "\n",
    "my_module_important.f()"
   ]
  },
  {
   "cell_type": "markdown",
   "metadata": {},
   "source": [
    "We can decide later to include `my_module_utils` as well, by calling `accept_module('my_module_utils')`.\n",
    "\n",
    "This is a tradeoff for the user:\n",
    "- add more code to track more changes, which could be irrelevant to the result\n",
    "- track less code and focus on the core business logic, at the expense of missing some important changes\n",
    "\n",
    "As a recommendation, accept the packages that you are working on, and possibly some important dependencies that contain data functions themselves.\n",
    "\n",
    "To conclude this tutorial:\n",
    "- `dds` can track code in module using the `accept_module` function\n",
    "- all the data functions must be in whitelisted modules or sub-modules\n",
    "- dependencies are not automatically tracked"
   ]
  },
  {
   "cell_type": "code",
   "execution_count": null,
   "metadata": {},
   "outputs": [],
   "source": []
  }
 ],
 "metadata": {
  "celltoolbar": "Tags",
  "kernelspec": {
   "display_name": "Python 3",
   "language": "python",
   "name": "python3"
  },
  "language_info": {
   "codemirror_mode": {
    "name": "ipython",
    "version": 3
   },
   "file_extension": ".py",
   "mimetype": "text/x-python",
   "name": "python",
   "nbconvert_exporter": "python",
   "pygments_lexer": "ipython3",
   "version": "3.8.5"
  }
 },
 "nbformat": 4,
 "nbformat_minor": 4
}
