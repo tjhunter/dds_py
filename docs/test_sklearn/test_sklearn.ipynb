{
 "cells": [
  {
   "cell_type": "code",
   "execution_count": 1,
   "metadata": {},
   "outputs": [],
   "source": [
    "%%sh\n",
    "# Small cleanup for reproducibility\n",
    "rm -rf /tmp/dds\n",
    "rm -rf /tmp/*png"
   ]
  },
  {
   "cell_type": "markdown",
   "metadata": {},
   "source": [
    "This tutorial is an adaptation of the Machine Learning tutorial from Elite Data Science. The original tutorial is here:\n",
    "\n",
    "https://elitedatascience.com/python-machine-learning-tutorial-scikit-learn\n",
    "\n",
    "Let us start with a few imports"
   ]
  },
  {
   "cell_type": "code",
   "execution_count": 2,
   "metadata": {},
   "outputs": [],
   "source": [
    "import sklearn\n",
    "import pandas as pd\n",
    "\n",
    "import numpy as np\n",
    "import pandas as pd\n",
    " \n",
    "from sklearn.model_selection import train_test_split\n",
    "from sklearn import preprocessing\n",
    "from sklearn.ensemble import RandomForestRegressor\n",
    "from sklearn.pipeline import make_pipeline\n",
    "from sklearn.model_selection import GridSearchCV\n",
    "from sklearn.metrics import mean_squared_error, r2_score\n",
    "import requests\n",
    "import io\n",
    "import json"
   ]
  },
  {
   "cell_type": "markdown",
   "metadata": {},
   "source": [
    "We now add the import to the `dds` package. By default, the data will be stored in the temporary directory"
   ]
  },
  {
   "cell_type": "code",
   "execution_count": 3,
   "metadata": {},
   "outputs": [],
   "source": [
    "import dds"
   ]
  },
  {
   "cell_type": "markdown",
   "metadata": {},
   "source": [
    "The two internal directories (data and internal) are now there"
   ]
  },
  {
   "cell_type": "code",
   "execution_count": 4,
   "metadata": {},
   "outputs": [
    {
     "name": "stdout",
     "output_type": "stream",
     "text": [
      "totaal 36\n",
      "drwxrwxr-x  4 tjhunter tjhunter  4096 Nov  8 16:37 .\n",
      "drwxrwxrwt 21 root     root     20480 Nov  8 16:37 ..\n",
      "drwxrwxr-x  2 tjhunter tjhunter  4096 Nov  8 16:37 data\n",
      "drwxrwxr-x  3 tjhunter tjhunter  4096 Nov  8 16:37 internal\n"
     ]
    }
   ],
   "source": [
    "%%sh\n",
    "ls -la /tmp/dds"
   ]
  },
  {
   "cell_type": "markdown",
   "metadata": {},
   "source": [
    "Let's start with a familiar problem of accessing data from the internet. This piece of code will download a dataset, but with the additional twist that the dataset will be cached onto the local machine."
   ]
  },
  {
   "cell_type": "code",
   "execution_count": 5,
   "metadata": {},
   "outputs": [],
   "source": [
    "path_model = \"/wine-quality/my_model\"\n",
    "path_model_stats = \"/wine-quality/my_model_stats.json\"\n",
    "\n",
    "@dds.dds_function(\"/wine-quality/raw\")\n",
    "def data():\n",
    "    print(\"*** in _load_data ***\")\n",
    "    url = \"https://raw.githubusercontent.com/zygmuntz/wine-quality/master/winequality/winequality-red.csv\"\n",
    "    x = requests.get(url=url, verify=False).content \n",
    "    return pd.read_csv(io.StringIO(x.decode('utf8')), sep=\";\")\n"
   ]
  },
  {
   "cell_type": "code",
   "execution_count": 6,
   "metadata": {},
   "outputs": [
    {
     "data": {
      "image/png": "[encoded data removed]",
      "text/plain": [
       "<IPython.core.display.Image object>"
      ]
     },
     "execution_count": 1,
     "metadata": {},
     "output_type": "execute_result"
    }
   ],
   "source": [
    "dds.eval(data, dds_export_graph=\"/tmp/2.png\", dds_extra_debug=True, dds_stages=[\"analysis\"])\n",
    "from IPython.display import Image\n",
    "Image(\"/tmp/2.png\")"
   ]
  },
  {
   "cell_type": "code",
   "execution_count": 7,
   "metadata": {},
   "outputs": [
    {
     "name": "stdout",
     "output_type": "stream",
     "text": [
      "*** in _load_data ***\n"
     ]
    },
    {
     "name": "stderr",
     "output_type": "stream",
     "text": [
      "/home/tjhunter/work/software/miniconda/envs/dds/lib/python3.8/site-packages/urllib3/connectionpool.py:981: InsecureRequestWarning: Unverified HTTPS request is being made to host 'raw.githubusercontent.com'. Adding certificate verification is strongly advised. See: https://urllib3.readthedocs.io/en/latest/advanced-usage.html#ssl-warnings\n",
      "  warnings.warn(\n"
     ]
    },
    {
     "data": {
      "text/html": [
       "<div>\n",
       "<style scoped>\n",
       "    .dataframe tbody tr th:only-of-type {\n",
       "        vertical-align: middle;\n",
       "    }\n",
       "\n",
       "    .dataframe tbody tr th {\n",
       "        vertical-align: top;\n",
       "    }\n",
       "\n",
       "    .dataframe thead th {\n",
       "        text-align: right;\n",
       "    }\n",
       "</style>\n",
       "<table border=\"1\" class=\"dataframe\">\n",
       "  <thead>\n",
       "    <tr style=\"text-align: right;\">\n",
       "      <th></th>\n",
       "      <th>fixed acidity</th>\n",
       "      <th>volatile acidity</th>\n",
       "      <th>citric acid</th>\n",
       "      <th>residual sugar</th>\n",
       "      <th>chlorides</th>\n",
       "      <th>free sulfur dioxide</th>\n",
       "      <th>total sulfur dioxide</th>\n",
       "      <th>density</th>\n",
       "      <th>pH</th>\n",
       "      <th>sulphates</th>\n",
       "      <th>alcohol</th>\n",
       "      <th>quality</th>\n",
       "    </tr>\n",
       "  </thead>\n",
       "  <tbody>\n",
       "    <tr>\n",
       "      <th>0</th>\n",
       "      <td>7.4</td>\n",
       "      <td>0.70</td>\n",
       "      <td>0.00</td>\n",
       "      <td>1.9</td>\n",
       "      <td>0.076</td>\n",
       "      <td>11.0</td>\n",
       "      <td>34.0</td>\n",
       "      <td>0.9978</td>\n",
       "      <td>3.51</td>\n",
       "      <td>0.56</td>\n",
       "      <td>9.4</td>\n",
       "      <td>5</td>\n",
       "    </tr>\n",
       "    <tr>\n",
       "      <th>1</th>\n",
       "      <td>7.8</td>\n",
       "      <td>0.88</td>\n",
       "      <td>0.00</td>\n",
       "      <td>2.6</td>\n",
       "      <td>0.098</td>\n",
       "      <td>25.0</td>\n",
       "      <td>67.0</td>\n",
       "      <td>0.9968</td>\n",
       "      <td>3.20</td>\n",
       "      <td>0.68</td>\n",
       "      <td>9.8</td>\n",
       "      <td>5</td>\n",
       "    </tr>\n",
       "    <tr>\n",
       "      <th>2</th>\n",
       "      <td>7.8</td>\n",
       "      <td>0.76</td>\n",
       "      <td>0.04</td>\n",
       "      <td>2.3</td>\n",
       "      <td>0.092</td>\n",
       "      <td>15.0</td>\n",
       "      <td>54.0</td>\n",
       "      <td>0.9970</td>\n",
       "      <td>3.26</td>\n",
       "      <td>0.65</td>\n",
       "      <td>9.8</td>\n",
       "      <td>5</td>\n",
       "    </tr>\n",
       "  </tbody>\n",
       "</table>\n",
       "</div>"
      ],
      "text/plain": [
       "   fixed acidity  volatile acidity  citric acid  residual sugar  chlorides  \\\n",
       "0            7.4              0.70         0.00             1.9      0.076   \n",
       "1            7.8              0.88         0.00             2.6      0.098   \n",
       "2            7.8              0.76         0.04             2.3      0.092   \n",
       "\n",
       "   free sulfur dioxide  total sulfur dioxide  density    pH  sulphates  \\\n",
       "0                 11.0                  34.0   0.9978  3.51       0.56   \n",
       "1                 25.0                  67.0   0.9968  3.20       0.68   \n",
       "2                 15.0                  54.0   0.9970  3.26       0.65   \n",
       "\n",
       "   alcohol  quality  \n",
       "0      9.4        5  \n",
       "1      9.8        5  \n",
       "2      9.8        5  "
      ]
     },
     "execution_count": 1,
     "metadata": {},
     "output_type": "execute_result"
    }
   ],
   "source": [
    "data().head(3)"
   ]
  },
  {
   "cell_type": "code",
   "execution_count": 8,
   "metadata": {},
   "outputs": [],
   "source": [
    "def build_model(X_train, y_train):\n",
    "    print(\"*** in build_model ***\")\n",
    "    pipeline = make_pipeline(preprocessing.StandardScaler(), \n",
    "                             RandomForestRegressor(n_estimators=100))\n",
    "    hyperparameters = { 'randomforestregressor__max_features' : ['auto', 'sqrt', 'log2'],\n",
    "                      'randomforestregressor__max_depth': [None, 5, 3, 1]}\n",
    "\n",
    "    clf = GridSearchCV(pipeline, hyperparameters, cv=10)\n",
    "    \n",
    "    clf.fit(X_train, y_train)\n",
    "    return clf\n",
    " \n",
    "    \n",
    "def model_stats(clf, X_test, y_test) -> str:\n",
    "    print(\"*** in model_stats ***\")\n",
    "    pred = clf.predict(X_test)\n",
    "    return json.dumps({\n",
    "#         \"r2_score\": r2_score(y_test, pred),\n",
    "        \"mse\": mean_squared_error(y_test, pred)\n",
    "    })\n",
    "    \n",
    "    \n",
    "def pipeline():\n",
    "    wine_data = data()\n",
    "    y = wine_data.quality\n",
    "    X = wine_data.drop('quality', axis=1)\n",
    "    X_train, X_test, y_train, y_test = train_test_split(X, y, \n",
    "                                                        test_size=0.15, \n",
    "                                                        random_state=123, \n",
    "                                                        stratify=y)\n",
    "    clf = dds.keep(path_model, build_model, X_train, y_train)\n",
    "    dds.keep(path_model_stats, model_stats, clf, X_test, y_test)\n",
    "    print(\"*** done ***\")\n",
    "\n",
    "\n",
    "# dds.eval(pipeline, dds_export_graph=\"1.png\")\n"
   ]
  },
  {
   "cell_type": "code",
   "execution_count": 9,
   "metadata": {},
   "outputs": [],
   "source": [
    "%%sh\n",
    "# cat /tmp/data/wine-quality/my_model_stats.json"
   ]
  },
  {
   "cell_type": "code",
   "execution_count": 10,
   "metadata": {},
   "outputs": [
    {
     "data": {
      "image/png": "[encoded data removed]",
      "text/plain": [
       "<IPython.core.display.Image object>"
      ]
     },
     "execution_count": 1,
     "metadata": {},
     "output_type": "execute_result"
    }
   ],
   "source": [
    "\n",
    "@dds.dds_function(\"/p1\")\n",
    "def f1(): return 2 \n",
    "\n",
    "@dds.dds_function(\"/p2\")\n",
    "def f2(): return 2 + f1()\n",
    "\n",
    "@dds.dds_function(\"/p3\")\n",
    "def f3(): return 1 + f1() + f2()\n",
    "\n",
    "@dds.dds_function(\"/p4\")\n",
    "def f4(): return 1\n",
    "\n",
    "\n",
    "def f():\n",
    "    f4()\n",
    "    f3()\n",
    "\n",
    "dds.eval(f, dds_export_graph=\"/tmp/2.png\", dds_extra_debug=True, dds_stages=[\"analysis\"])\n",
    "from IPython.display import Image\n",
    "Image(\"/tmp/2.png\")"
   ]
  },
  {
   "cell_type": "code",
   "execution_count": 11,
   "metadata": {},
   "outputs": [],
   "source": [
    "f()"
   ]
  },
  {
   "cell_type": "code",
   "execution_count": null,
   "metadata": {},
   "outputs": [],
   "source": []
  }
 ],
 "metadata": {
  "language_info": {
   "name": "python"
  }
 },
 "nbformat": 4,
 "nbformat_minor": 4
}
