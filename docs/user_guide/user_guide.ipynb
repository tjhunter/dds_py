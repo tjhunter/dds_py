{
 "cells": [
  {
   "cell_type": "code",
   "execution_count": null,
   "metadata": {
    "execution": {
     "iopub.execute_input": "2020-12-05T14:06:30.567220Z",
     "iopub.status.busy": "2020-12-05T14:06:30.565890Z",
     "iopub.status.idle": "2020-12-05T14:06:30.579032Z",
     "shell.execute_reply": "2020-12-05T14:06:30.579709Z"
    },
    "tags": [
     "hide_cell"
    ]
   },
   "outputs": [],
   "source": [
    "%%sh\n",
    "# Small cleanup for reproducibility\n",
    "rm -rf /tmp/dds/user_guide"
   ]
  },
  {
   "cell_type": "code",
   "execution_count": null,
   "metadata": {
    "tags": [
     "hide_cell"
    ]
   },
   "outputs": [],
   "source": [
    "import dds\n",
    "dds.set_store(\"local\",\n",
    "              data_dir=\"/tmp/dds/user_guide/data\",\n",
    "              internal_dir=\"/tmp/dds/user_guide/internal\")"
   ]
  },
  {
   "cell_type": "markdown",
   "metadata": {},
   "source": [
    "# User guide\n",
    "\n",
    "The `dds` package solves the data integration problem in data science codebases. By using the `dds` package, you can safely assume that:\n",
    "\n",
    " - data consumed or produced is up to date with the current code (_coherence guarantee_)\n",
    " - if a piece of data (machine learning models, datasets, ...) has already been calculated for a given code, it will immediately be used, dramatically accelerating the run of the code (caching)\n",
    "\n",
    "`dds` works by inspecting python code and checking against a central store if its output has already been calculated. In that sense, it can be thought of as a smart caching system that detects if it should rerun calculations. As we will see, this makes `dds` a very simple foundation to build a _feature store_ that keeps models, transformed data and feature data all in sync.\n",
    "\n",
    "In order to work, `dds` needs three pieces of information:\n",
    "\n",
    " - where to store all the pieces of data (called blobs in `dds` jargon) that have been already calculated. This is by default in `/tmp/dds/internal` (or equivalent for your operating system)\n",
    " - where to store all the paths that are being requested for evaluation. It is by default in `/tmp/dds/data`.\n",
    " - what code should be tracked. Using the default configuration is enough for this tutorial in a notebook.\n",
    " "
   ]
  },
  {
   "cell_type": "markdown",
   "metadata": {},
   "source": [
    "## Data functions\n",
    "\n",
    "The easiest way to use `dds` is to add a special annotation to _data functions_. A data function is a function that takes no arguments and returns something (a piece of _data_) that is of interest to us. Furthermore, it should respect the following conditions:\n",
    "\n",
    "* it always returns the same result when called repeatedly (determinism)\n",
    "* it could be replaced just by its result without changing the working of the program (referential transparency)\n",
    "\n",
    "The first property says that the output does not change if the code is the same and the second property says that we only really care about the output of the function, not what it might decide to do on the side.\n",
    "\n",
    "Here is a simple \"Hello world\" example in `dds`."
   ]
  },
  {
   "cell_type": "code",
   "execution_count": null,
   "metadata": {
    "execution": {
     "iopub.execute_input": "2020-12-05T14:06:30.589409Z",
     "iopub.status.busy": "2020-12-05T14:06:30.588156Z",
     "iopub.status.idle": "2020-12-05T14:06:30.601005Z",
     "shell.execute_reply": "2020-12-05T14:06:30.601367Z"
    }
   },
   "outputs": [],
   "source": [
    "import dds\n",
    "\n",
    "@dds.data_function(\"/hello_world\")\n",
    "def hello_world():\n",
    "    print(\"hello_world() has been called\")\n",
    "    return \"Hello, world\"\n",
    "\n",
    "hello_world()"
   ]
  },
  {
   "cell_type": "markdown",
   "metadata": {},
   "source": [
    "When we called the function, a few things happened:\n",
    "\n",
    " - `dds` calculated a unique fingerprint for this function and checked if a blob was already associated for this fingerprint in its storage\n",
    " - since this is the first run, the function was executed and its result was stored in a storage\n",
    " - also, because the output is associated to a path (`/hello_world`), the path `/hello_world` filled with the content of the output.\n",
    "\n",
    "We can in fact see all these outputs in the default store. Here is the file newly created with our welcoming content:"
   ]
  },
  {
   "cell_type": "code",
   "execution_count": null,
   "metadata": {},
   "outputs": [],
   "source": [
    "! cat /tmp/dds/user_guide/data/hello_world"
   ]
  },
  {
   "cell_type": "markdown",
   "metadata": {},
   "source": [
    "But that file is just a link to the unique signature associated with this piece of code:"
   ]
  },
  {
   "cell_type": "code",
   "execution_count": null,
   "metadata": {},
   "outputs": [],
   "source": [
    "! readlink /tmp/dds/user_guide/data/hello_world"
   ]
  },
  {
   "cell_type": "markdown",
   "metadata": {},
   "source": [
    "\n",
    "This function prints a message whenever it executes. Now, if we try to run it again, it will actually not run, because the code has not changed."
   ]
  },
  {
   "cell_type": "code",
   "execution_count": null,
   "metadata": {
    "execution": {
     "iopub.execute_input": "2020-12-05T14:06:30.607547Z",
     "iopub.status.busy": "2020-12-05T14:06:30.607070Z",
     "iopub.status.idle": "2020-12-05T14:06:30.658094Z",
     "shell.execute_reply": "2020-12-05T14:06:30.658574Z"
    }
   },
   "outputs": [],
   "source": [
    "hello_world()"
   ]
  },
  {
   "cell_type": "markdown",
   "metadata": {},
   "source": [
    "In fact, because `dds` looks at the source code, if you redefine the function with the same content, it still does not recompute:"
   ]
  },
  {
   "cell_type": "code",
   "execution_count": null,
   "metadata": {
    "execution": {
     "iopub.execute_input": "2020-12-05T14:06:30.666678Z",
     "iopub.status.busy": "2020-12-05T14:06:30.665670Z",
     "iopub.status.idle": "2020-12-05T14:06:30.693166Z",
     "shell.execute_reply": "2020-12-05T14:06:30.692795Z"
    }
   },
   "outputs": [],
   "source": [
    "@dds.data_function(\"/hello_world\")\n",
    "def hello_world():\n",
    "    print(\"hello_world() has been called\")\n",
    "    return \"Hello, world\"\n",
    "\n",
    "hello_world()"
   ]
  },
  {
   "cell_type": "markdown",
   "metadata": {},
   "source": [
    "Functions can include arbitrary dependencies, as shown with this example. The function `f` has a dependency on an extra variable:\n",
    "\n"
   ]
  },
  {
   "cell_type": "code",
   "execution_count": null,
   "metadata": {
    "execution": {
     "iopub.execute_input": "2020-12-05T14:06:30.700519Z",
     "iopub.status.busy": "2020-12-05T14:06:30.699711Z",
     "iopub.status.idle": "2020-12-05T14:06:30.729418Z",
     "shell.execute_reply": "2020-12-05T14:06:30.729773Z"
    }
   },
   "outputs": [],
   "source": [
    "my_var = 1\n",
    "\n",
    "@dds.data_function(\"/f\")\n",
    "def f():\n",
    "    print(\"Calling f\")\n",
    "    return my_var\n",
    "\n",
    "f()"
   ]
  },
  {
   "cell_type": "markdown",
   "metadata": {},
   "source": [
    "If we call the function again, as seen before, the function does not get called again:"
   ]
  },
  {
   "cell_type": "code",
   "execution_count": null,
   "metadata": {
    "execution": {
     "iopub.execute_input": "2020-12-05T14:06:30.739381Z",
     "iopub.status.busy": "2020-12-05T14:06:30.738286Z",
     "iopub.status.idle": "2020-12-05T14:06:30.771995Z",
     "shell.execute_reply": "2020-12-05T14:06:30.771507Z"
    }
   },
   "outputs": [],
   "source": [
    "f()"
   ]
  },
  {
   "cell_type": "markdown",
   "metadata": {},
   "source": [
    "However, if we change any dependency of the function, such as `my_var`, then the function will get evaluated again:"
   ]
  },
  {
   "cell_type": "code",
   "execution_count": null,
   "metadata": {
    "execution": {
     "iopub.execute_input": "2020-12-05T14:06:30.782868Z",
     "iopub.status.busy": "2020-12-05T14:06:30.776163Z",
     "iopub.status.idle": "2020-12-05T14:06:30.819044Z",
     "shell.execute_reply": "2020-12-05T14:06:30.819630Z"
    }
   },
   "outputs": [],
   "source": [
    "my_var = 2\n",
    "f()"
   ]
  },
  {
   "cell_type": "markdown",
   "metadata": {},
   "source": [
    "Interestingly, if we change the variable again to its previous value, the function does not get evaluated again! The signature of the function will match a signature that was calculated before, hence there is no need to recompute it."
   ]
  },
  {
   "cell_type": "code",
   "execution_count": null,
   "metadata": {
    "execution": {
     "iopub.execute_input": "2020-12-05T14:06:30.830594Z",
     "iopub.status.busy": "2020-12-05T14:06:30.828888Z",
     "iopub.status.idle": "2020-12-05T14:06:30.862714Z",
     "shell.execute_reply": "2020-12-05T14:06:30.863391Z"
    },
    "scrolled": false
   },
   "outputs": [],
   "source": [
    "my_var = 1\n",
    "f()"
   ]
  },
  {
   "cell_type": "markdown",
   "metadata": {},
   "source": [
    "This mechanism covers all the basic structures in python (functions, dictionaries, lists, basic types, ...).\n",
    "\n",
    "A function that is annotated with a `dds` annotation is called a _data function_. It is a function that not only a name in code but also a data path associated with it, and for which the output is captured and stored in a data system.\n",
    "\n",
    "As we said, the `data_function` annotation requires little code change but only works for functions that do not have arguments. How to deal with more complicated functions?\n",
    "This is the object of the next section.\n",
    "\n",
    "## Functions with arguments: keep() and eval()\n",
    "\n",
    "`dds` can also wrap functions that have arguments using the `dds.keep()` function. Here is a simple example, in which the `hello` function expects an extra word to be provided:"
   ]
  },
  {
   "cell_type": "code",
   "execution_count": null,
   "metadata": {},
   "outputs": [],
   "source": [
    "def hello(name):\n",
    "    print(f\"Calling function hello on {name}\")\n",
    "    return f\"Hello, {name}\"\n",
    "\n",
    "greeting = hello(\"world\")\n",
    "greeting"
   ]
  },
  {
   "cell_type": "markdown",
   "metadata": {},
   "source": [
    "In order to capture a specific call to this function with `dds`, the function call has to be wrapped with the `dds.keep` function:"
   ]
  },
  {
   "cell_type": "code",
   "execution_count": null,
   "metadata": {
    "scrolled": false
   },
   "outputs": [],
   "source": [
    "greeting = dds.keep(\"/greeting\", hello, \"world\")\n",
    "greeting"
   ]
  },
  {
   "cell_type": "markdown",
   "metadata": {},
   "source": [
    "Again, try to change the argument of the function to see when it calls the function. This substitution can be done everywhere the function `hello(world)` was called. It can also be wrapped in a separate function instead of `hello`. This is in fact how the decorator `data_function` works.\n",
    "\n",
    "This constructs works well if the arguments can be summarized to a signature. It will fail for complex objects such as files, because `dds` needs to understand basic information about the input of a function to decide if it has changed or not. As an example:"
   ]
  },
  {
   "cell_type": "code",
   "execution_count": null,
   "metadata": {},
   "outputs": [],
   "source": [
    "def hello_from_file(file):\n",
    "    name = file.readline().strip()\n",
    "    print(\"Calling hello_from_file\")\n",
    "    return f\"Hello, {name}\"\n",
    "\n",
    "f = open(\"input.txt\", \"r\")\n",
    "hello_from_file(f)"
   ]
  },
  {
   "cell_type": "code",
   "execution_count": null,
   "metadata": {},
   "outputs": [],
   "source": [
    "# This line will trigger a DDSException\n",
    "try:\n",
    "    dds.keep(\"/greeting\", hello_from_file, open(\"input.txt\", \"r\"))\n",
    "except dds.DDSException as e:\n",
    "    print(e)"
   ]
  },
  {
   "cell_type": "markdown",
   "metadata": {},
   "source": [
    "How do we still use files? `dds` does not need to understand the content passed to a function _if_ it is called as a sub-function within `dds`. More concretely in this example, we can create a wrapper function that contains the file call and the call to the function to keep:"
   ]
  },
  {
   "cell_type": "code",
   "execution_count": null,
   "metadata": {},
   "outputs": [],
   "source": [
    "def wrapper_hello():\n",
    "    f = open(\"input.txt\", \"r\")\n",
    "    print(f\"Opening file {f}\")\n",
    "    greeting = dds.keep(\"/greeting\", hello_from_file, f)\n",
    "    return greeting\n",
    "\n",
    "dds.eval(wrapper_hello)"
   ]
  },
  {
   "cell_type": "markdown",
   "metadata": {},
   "source": [
    "Calling the function again shows that:\n",
    "\n",
    " - we still open the file: the content of `wrapper_hello` is still executed. \n",
    " - `hello_from_file` is not called again: even if we pass a file to it, all the source code to provide the arguments is the same, the function `hello_from_file` is the same, hence `dds` assumes that the resulting `greeting` is going to be the same.\n",
    "\n",
    "As a result, `wrapper_hello` is run (it is just `eval`uated), but all the sub-calls to data functions are going to be cached."
   ]
  },
  {
   "cell_type": "code",
   "execution_count": null,
   "metadata": {},
   "outputs": [],
   "source": [
    "dds.eval(wrapper_hello)"
   ]
  },
  {
   "cell_type": "markdown",
   "metadata": {},
   "source": [
    "## Indirect references: load()\n",
    "\n",
    "So far, we have seen only one way to access data: using `dds.keep` (or its shortcut `@data_function`). \n",
    "It is not always convenient to refer to the data function that created the piece of data in the first place.\n",
    "For example, the function that created the data in the first place contains some secrets that should not be accessible.\n",
    "This is why `dds` provides an alternative way to access data, using only the _path to the data_. This is what the `dds.load` function provides.\n",
    "\n",
    "For example, if we want to retrieve the data stored in `/hello_world`, we can directly retrieve it in the following way:"
   ]
  },
  {
   "cell_type": "code",
   "execution_count": null,
   "metadata": {},
   "outputs": [],
   "source": [
    "dds.load(\"/hello_world\")"
   ]
  },
  {
   "cell_type": "markdown",
   "metadata": {},
   "source": [
    "Just like the other functions, changes to the underlying data will cause the signature of a `dds.load` call to change. \n",
    "This function seems convenient, but it comes at some cost: because it refers only to the result and not to how the data was calculated, it cannot check for loop dependencies, or if this reference should be updated.\n",
    "\n",
    "When to use `dds.load` and when to directly call the function? \n",
    "- directly calling the function ensure that the most recent version will be taken into account, at the expense of a code dependency\n",
    "- loading the data indirectly hides the implementation, but may introduce coherency and synchronization issues\n",
    "\n",
    "Furthermore, some extra rules must be respected when mixing `load` and other functions. In particular, `dds` will prevent you from reading a dataset first through `load` and then evaluating it using `keep`. This example will fail for example:"
   ]
  },
  {
   "cell_type": "code",
   "execution_count": null,
   "metadata": {},
   "outputs": [],
   "source": [
    "@dds.data_function(\"/f\")\n",
    "def f():\n",
    "    return 1\n",
    "\n",
    "def h():\n",
    "    _ = dds.load(\"/f\")\n",
    "\n",
    "def g():\n",
    "    h()\n",
    "    f()\n",
    "\n",
    "# This will fail with a DDSException\n",
    "# dds.eval(g)"
   ]
  },
  {
   "cell_type": "markdown",
   "metadata": {},
   "source": [
    "Rearranging the call `h()` after `f()` solves the problem:"
   ]
  },
  {
   "cell_type": "code",
   "execution_count": null,
   "metadata": {},
   "outputs": [],
   "source": [
    "def g():\n",
    "    f()\n",
    "    h()\n",
    "dds.eval(g)"
   ]
  },
  {
   "cell_type": "markdown",
   "metadata": {},
   "source": [
    "## Conclusion\n",
    "\n",
    "As a conclusion, `dds` provides 4 basic functions to track and cache pieces of data:\n",
    "\n",
    " * `data_function` is an annotation for functions that take no arguments and return a piece of data that should be tracked\n",
    " * `keep` is a function that wraps function calls. It can be used standalone when the function uses basic types as arguments.\n",
    " * `eval` is used in conjunction with `keep` when data functions take complex arguments.\n",
    " * `load` directly loads a piece of data from its path (without having to refer its generating data function)\n",
    " \n",
    "By building on these foundations, `dds` allows you to do many more things such as visualizing all the dependencies between data, speeding up Machine Learning pipelines, and parallelizing your code automatically. The other tutorials provide more information."
   ]
  },
  {
   "cell_type": "code",
   "execution_count": null,
   "metadata": {},
   "outputs": [],
   "source": [
    "! ls /tmp/dds/user_guide/internal/blobs | grep -v meta"
   ]
  }
 ],
 "metadata": {
  "celltoolbar": "Tags",
  "kernelspec": {
   "display_name": "Python 3",
   "language": "python",
   "name": "python3"
  },
  "language_info": {
   "codemirror_mode": {
    "name": "ipython",
    "version": 3
   },
   "file_extension": ".py",
   "mimetype": "text/x-python",
   "name": "python",
   "nbconvert_exporter": "python",
   "pygments_lexer": "ipython3",
   "version": "3.8.5"
  }
 },
 "nbformat": 4,
 "nbformat_minor": 4
}
